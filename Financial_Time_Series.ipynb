{
  "nbformat": 4,
  "nbformat_minor": 0,
  "metadata": {
    "colab": {
      "name": "Financial Time Series.ipynb",
      "provenance": [],
      "collapsed_sections": [],
      "toc_visible": true,
      "authorship_tag": "ABX9TyP5CPouN3B0G77vrZVY5OaM",
      "include_colab_link": true
    },
    "kernelspec": {
      "name": "python3",
      "display_name": "Python 3"
    },
    "language_info": {
      "name": "python"
    }
  },
  "cells": [
    {
      "cell_type": "markdown",
      "metadata": {
        "id": "view-in-github",
        "colab_type": "text"
      },
      "source": [
        "<a href=\"https://colab.research.google.com/github/LaurenVaught/FinancialTimeSeries/blob/main/Financial_Time_Series.ipynb\" target=\"_parent\"><img src=\"https://colab.research.google.com/assets/colab-badge.svg\" alt=\"Open In Colab\"/></a>"
      ]
    },
    {
      "cell_type": "markdown",
      "source": [
        "#Ingest"
      ],
      "metadata": {
        "id": "la8xX2D7gYhf"
      }
    },
    {
      "cell_type": "markdown",
      "source": [
        "##Libraries"
      ],
      "metadata": {
        "id": "CCte-l_r5lFo"
      }
    },
    {
      "cell_type": "code",
      "source": [
        "import numpy as np\n",
        "from numpy import arange\n",
        "import pandas as pd\n",
        "import os\n",
        "from scipy.stats import norm\n",
        "import seaborn as sns\n",
        "import matplotlib.pyplot as plt\n",
        "\n",
        "from sklearn.pipeline import Pipeline\n",
        "from sklearn.compose import ColumnTransformer\n",
        "from sklearn.preprocessing import OneHotEncoder, MinMaxScaler\n",
        "from sklearn.model_selection import train_test_split\n",
        "from sklearn.impute import SimpleImputer\n",
        "from sklearn.model_selection import GridSearchCV\n",
        "\n",
        "from sklearn.linear_model import LinearRegression\n",
        "from sklearn.ensemble import IsolationForest\n",
        "from sklearn.ensemble import RandomForestRegressor\n",
        "from sklearn.linear_model import Ridge\n",
        "from sklearn.linear_model import Lasso\n",
        "from sklearn.tree import DecisionTreeClassifier\n",
        "from sklearn.ensemble import GradientBoostingRegressor\n",
        "\n",
        "from sklearn.metrics import mean_squared_error\n",
        "from sklearn.metrics import mean_absolute_error\n",
        "from sklearn.metrics import r2_score\n",
        "from sklearn.metrics import explained_variance_score\n",
        "from sklearn.metrics import max_error\n",
        "from sklearn.metrics import mean_squared_log_error\n",
        "\n",
        "import matplotlib.gridspec as gridspec\n",
        "from datetime import datetime\n",
        "from scipy.stats import skew\n",
        "from scipy.special import boxcox1p\n",
        "from scipy.stats import boxcox_normmax\n",
        "from sklearn.linear_model import ElasticNetCV, LassoCV, RidgeCV, LinearRegression, Ridge, Lasso, ElasticNet\n",
        "from sklearn.ensemble import GradientBoostingRegressor\n",
        "from sklearn.svm import SVR\n",
        "from sklearn.pipeline import make_pipeline\n",
        "from sklearn.preprocessing import RobustScaler\n",
        "from sklearn.model_selection import KFold, cross_val_score, train_test_split, StratifiedKFold\n",
        "from sklearn.metrics import mean_squared_error, mean_absolute_error\n",
        "from imblearn.pipeline import make_pipeline as imbalanced_make_pipeline\n",
        "from imblearn.over_sampling import SMOTE\n",
        "from sklearn.model_selection import KFold, cross_validate\n",
        "from sklearn.metrics import recall_score, f1_score, roc_auc_score\n",
        "from imblearn.pipeline import make_pipeline as imbalanced_make_pipeline\n",
        "from sklearn.metrics import precision_recall_curve, average_precision_score\n",
        "from sklearn.model_selection import RepeatedStratifiedKFold, StratifiedKFold\n",
        "from sklearn.metrics import confusion_matrix, accuracy_score, precision_score\n",
        "#from mlxtend.regressor import StackingCVRegressor\n",
        "from xgboost import XGBRegressor\n",
        "import xgboost as xg\n",
        "#from lightgbm import LGBMRegressor\n",
        "import matplotlib.pyplot as plt\n",
        "import scipy.stats as stats\n",
        "import sklearn.linear_model as linear_model\n",
        "import matplotlib.style as style\n",
        "import seaborn as sns\n",
        "from sklearn.manifold import TSNE\n",
        "from sklearn.cluster import KMeans\n",
        "from sklearn.decomposition import PCA\n",
        "from sklearn.preprocessing import StandardScaler\n",
        "\n",
        "import numpy\n",
        "import math\n",
        "from keras.layers import Bidirectional\n",
        "from keras.models import Sequential\n",
        "from keras.layers import Dense\n",
        "from keras.layers import LSTM\n",
        "from sklearn.preprocessing import MinMaxScaler\n",
        "from sklearn.metrics import mean_squared_error"
      ],
      "metadata": {
        "id": "o-vooCmoSMij"
      },
      "execution_count": 103,
      "outputs": []
    },
    {
      "cell_type": "code",
      "source": [
        "#upload from raw link on github\n",
        "df = pd.read_csv('https://raw.githubusercontent.com/LaurenVaught/FinancialTimeSeries/main/SP500.csv') "
      ],
      "metadata": {
        "id": "aUYHKKHISR44"
      },
      "execution_count": 104,
      "outputs": []
    },
    {
      "cell_type": "markdown",
      "source": [
        "#EDA"
      ],
      "metadata": {
        "id": "NhTOZVfxTApa"
      }
    },
    {
      "cell_type": "code",
      "source": [
        "df.shape"
      ],
      "metadata": {
        "colab": {
          "base_uri": "https://localhost:8080/"
        },
        "id": "ixRcYmtMS5Xr",
        "outputId": "23cafd32-6102-4cf0-b956-b848226d42fe"
      },
      "execution_count": 105,
      "outputs": [
        {
          "output_type": "execute_result",
          "data": {
            "text/plain": [
              "(1259, 7)"
            ]
          },
          "metadata": {},
          "execution_count": 105
        }
      ]
    },
    {
      "cell_type": "code",
      "source": [
        "df.head()"
      ],
      "metadata": {
        "colab": {
          "base_uri": "https://localhost:8080/",
          "height": 206
        },
        "id": "-fWKAqPsS-3d",
        "outputId": "22e3d0c7-62a4-4226-e471-ebeb2ce1f104"
      },
      "execution_count": 106,
      "outputs": [
        {
          "output_type": "execute_result",
          "data": {
            "text/html": [
              "\n",
              "  <div id=\"df-52edf4ab-31ba-43ad-94fb-adfeb69b2937\">\n",
              "    <div class=\"colab-df-container\">\n",
              "      <div>\n",
              "<style scoped>\n",
              "    .dataframe tbody tr th:only-of-type {\n",
              "        vertical-align: middle;\n",
              "    }\n",
              "\n",
              "    .dataframe tbody tr th {\n",
              "        vertical-align: top;\n",
              "    }\n",
              "\n",
              "    .dataframe thead th {\n",
              "        text-align: right;\n",
              "    }\n",
              "</style>\n",
              "<table border=\"1\" class=\"dataframe\">\n",
              "  <thead>\n",
              "    <tr style=\"text-align: right;\">\n",
              "      <th></th>\n",
              "      <th>Date</th>\n",
              "      <th>Open</th>\n",
              "      <th>High</th>\n",
              "      <th>Low</th>\n",
              "      <th>Close</th>\n",
              "      <th>AdjClose</th>\n",
              "      <th>Volume</th>\n",
              "    </tr>\n",
              "  </thead>\n",
              "  <tbody>\n",
              "    <tr>\n",
              "      <th>0</th>\n",
              "      <td>28-Feb-22</td>\n",
              "      <td>4354.17</td>\n",
              "      <td>4388.84</td>\n",
              "      <td>4315.12</td>\n",
              "      <td>4373.94</td>\n",
              "      <td>4373.94</td>\n",
              "      <td>4.594010e+09</td>\n",
              "    </tr>\n",
              "    <tr>\n",
              "      <th>1</th>\n",
              "      <td>25-Feb-22</td>\n",
              "      <td>4298.38</td>\n",
              "      <td>4385.34</td>\n",
              "      <td>4286.83</td>\n",
              "      <td>4384.65</td>\n",
              "      <td>4384.65</td>\n",
              "      <td>3.941780e+09</td>\n",
              "    </tr>\n",
              "    <tr>\n",
              "      <th>2</th>\n",
              "      <td>24-Feb-22</td>\n",
              "      <td>4155.77</td>\n",
              "      <td>4294.73</td>\n",
              "      <td>4114.65</td>\n",
              "      <td>4288.70</td>\n",
              "      <td>4288.70</td>\n",
              "      <td>5.070560e+09</td>\n",
              "    </tr>\n",
              "    <tr>\n",
              "      <th>3</th>\n",
              "      <td>23-Feb-22</td>\n",
              "      <td>4324.93</td>\n",
              "      <td>4341.51</td>\n",
              "      <td>4221.51</td>\n",
              "      <td>4225.50</td>\n",
              "      <td>4225.50</td>\n",
              "      <td>3.814340e+09</td>\n",
              "    </tr>\n",
              "    <tr>\n",
              "      <th>4</th>\n",
              "      <td>22-Feb-22</td>\n",
              "      <td>4332.74</td>\n",
              "      <td>4362.12</td>\n",
              "      <td>4267.11</td>\n",
              "      <td>4304.76</td>\n",
              "      <td>4304.76</td>\n",
              "      <td>4.007780e+09</td>\n",
              "    </tr>\n",
              "  </tbody>\n",
              "</table>\n",
              "</div>\n",
              "      <button class=\"colab-df-convert\" onclick=\"convertToInteractive('df-52edf4ab-31ba-43ad-94fb-adfeb69b2937')\"\n",
              "              title=\"Convert this dataframe to an interactive table.\"\n",
              "              style=\"display:none;\">\n",
              "        \n",
              "  <svg xmlns=\"http://www.w3.org/2000/svg\" height=\"24px\"viewBox=\"0 0 24 24\"\n",
              "       width=\"24px\">\n",
              "    <path d=\"M0 0h24v24H0V0z\" fill=\"none\"/>\n",
              "    <path d=\"M18.56 5.44l.94 2.06.94-2.06 2.06-.94-2.06-.94-.94-2.06-.94 2.06-2.06.94zm-11 1L8.5 8.5l.94-2.06 2.06-.94-2.06-.94L8.5 2.5l-.94 2.06-2.06.94zm10 10l.94 2.06.94-2.06 2.06-.94-2.06-.94-.94-2.06-.94 2.06-2.06.94z\"/><path d=\"M17.41 7.96l-1.37-1.37c-.4-.4-.92-.59-1.43-.59-.52 0-1.04.2-1.43.59L10.3 9.45l-7.72 7.72c-.78.78-.78 2.05 0 2.83L4 21.41c.39.39.9.59 1.41.59.51 0 1.02-.2 1.41-.59l7.78-7.78 2.81-2.81c.8-.78.8-2.07 0-2.86zM5.41 20L4 18.59l7.72-7.72 1.47 1.35L5.41 20z\"/>\n",
              "  </svg>\n",
              "      </button>\n",
              "      \n",
              "  <style>\n",
              "    .colab-df-container {\n",
              "      display:flex;\n",
              "      flex-wrap:wrap;\n",
              "      gap: 12px;\n",
              "    }\n",
              "\n",
              "    .colab-df-convert {\n",
              "      background-color: #E8F0FE;\n",
              "      border: none;\n",
              "      border-radius: 50%;\n",
              "      cursor: pointer;\n",
              "      display: none;\n",
              "      fill: #1967D2;\n",
              "      height: 32px;\n",
              "      padding: 0 0 0 0;\n",
              "      width: 32px;\n",
              "    }\n",
              "\n",
              "    .colab-df-convert:hover {\n",
              "      background-color: #E2EBFA;\n",
              "      box-shadow: 0px 1px 2px rgba(60, 64, 67, 0.3), 0px 1px 3px 1px rgba(60, 64, 67, 0.15);\n",
              "      fill: #174EA6;\n",
              "    }\n",
              "\n",
              "    [theme=dark] .colab-df-convert {\n",
              "      background-color: #3B4455;\n",
              "      fill: #D2E3FC;\n",
              "    }\n",
              "\n",
              "    [theme=dark] .colab-df-convert:hover {\n",
              "      background-color: #434B5C;\n",
              "      box-shadow: 0px 1px 3px 1px rgba(0, 0, 0, 0.15);\n",
              "      filter: drop-shadow(0px 1px 2px rgba(0, 0, 0, 0.3));\n",
              "      fill: #FFFFFF;\n",
              "    }\n",
              "  </style>\n",
              "\n",
              "      <script>\n",
              "        const buttonEl =\n",
              "          document.querySelector('#df-52edf4ab-31ba-43ad-94fb-adfeb69b2937 button.colab-df-convert');\n",
              "        buttonEl.style.display =\n",
              "          google.colab.kernel.accessAllowed ? 'block' : 'none';\n",
              "\n",
              "        async function convertToInteractive(key) {\n",
              "          const element = document.querySelector('#df-52edf4ab-31ba-43ad-94fb-adfeb69b2937');\n",
              "          const dataTable =\n",
              "            await google.colab.kernel.invokeFunction('convertToInteractive',\n",
              "                                                     [key], {});\n",
              "          if (!dataTable) return;\n",
              "\n",
              "          const docLinkHtml = 'Like what you see? Visit the ' +\n",
              "            '<a target=\"_blank\" href=https://colab.research.google.com/notebooks/data_table.ipynb>data table notebook</a>'\n",
              "            + ' to learn more about interactive tables.';\n",
              "          element.innerHTML = '';\n",
              "          dataTable['output_type'] = 'display_data';\n",
              "          await google.colab.output.renderOutput(dataTable, element);\n",
              "          const docLink = document.createElement('div');\n",
              "          docLink.innerHTML = docLinkHtml;\n",
              "          element.appendChild(docLink);\n",
              "        }\n",
              "      </script>\n",
              "    </div>\n",
              "  </div>\n",
              "  "
            ],
            "text/plain": [
              "        Date     Open     High      Low    Close  AdjClose        Volume\n",
              "0  28-Feb-22  4354.17  4388.84  4315.12  4373.94   4373.94  4.594010e+09\n",
              "1  25-Feb-22  4298.38  4385.34  4286.83  4384.65   4384.65  3.941780e+09\n",
              "2  24-Feb-22  4155.77  4294.73  4114.65  4288.70   4288.70  5.070560e+09\n",
              "3  23-Feb-22  4324.93  4341.51  4221.51  4225.50   4225.50  3.814340e+09\n",
              "4  22-Feb-22  4332.74  4362.12  4267.11  4304.76   4304.76  4.007780e+09"
            ]
          },
          "metadata": {},
          "execution_count": 106
        }
      ]
    },
    {
      "cell_type": "code",
      "source": [
        "df.info"
      ],
      "metadata": {
        "colab": {
          "base_uri": "https://localhost:8080/"
        },
        "id": "G-VBN4msTHTH",
        "outputId": "784b54b3-588b-4ec6-b87b-1e078cf0d6f4"
      },
      "execution_count": 107,
      "outputs": [
        {
          "output_type": "execute_result",
          "data": {
            "text/plain": [
              "<bound method DataFrame.info of            Date     Open     High      Low    Close  AdjClose        Volume\n",
              "0     28-Feb-22  4354.17  4388.84  4315.12  4373.94   4373.94  4.594010e+09\n",
              "1     25-Feb-22  4298.38  4385.34  4286.83  4384.65   4384.65  3.941780e+09\n",
              "2     24-Feb-22  4155.77  4294.73  4114.65  4288.70   4288.70  5.070560e+09\n",
              "3     23-Feb-22  4324.93  4341.51  4221.51  4225.50   4225.50  3.814340e+09\n",
              "4     22-Feb-22  4332.74  4362.12  4267.11  4304.76   4304.76  4.007780e+09\n",
              "...         ...      ...      ...      ...      ...       ...           ...\n",
              "1254   7-Mar-17  2370.74  2375.12  2365.51  2368.39   2368.39  3.518390e+09\n",
              "1255   6-Mar-17  2375.23  2378.80  2367.98  2375.31   2375.31  3.232700e+09\n",
              "1256   3-Mar-17  2380.92  2383.89  2375.39  2383.12   2383.12  3.555260e+09\n",
              "1257   2-Mar-17  2394.75  2394.75  2380.17  2381.92   2381.92  3.821320e+09\n",
              "1258   1-Mar-17  2380.13  2400.98  2380.13  2395.96   2395.96  4.345180e+09\n",
              "\n",
              "[1259 rows x 7 columns]>"
            ]
          },
          "metadata": {},
          "execution_count": 107
        }
      ]
    },
    {
      "cell_type": "code",
      "source": [
        "#missing values\n",
        "total = df.isnull().sum().sort_values(ascending = False)[df.isnull().sum().sort_values(ascending = False) != 0]\n",
        "percent = (df.isnull().sum() / df.isnull().count()).sort_values(ascending = False)[(df.isnull().sum() / df.isnull().count()).sort_values(ascending = False) != 0]\n",
        "missing = pd.concat([total, percent], axis = 1, keys = ['Total Missing', 'Percent Missing'])\n",
        "print(missing)"
      ],
      "metadata": {
        "colab": {
          "base_uri": "https://localhost:8080/"
        },
        "id": "MMtaiuK1TMkP",
        "outputId": "4bec5300-64e1-4969-a9c5-a6a1ecfedfed"
      },
      "execution_count": 108,
      "outputs": [
        {
          "output_type": "stream",
          "name": "stdout",
          "text": [
            "Empty DataFrame\n",
            "Columns: [Total Missing, Percent Missing]\n",
            "Index: []\n"
          ]
        }
      ]
    },
    {
      "cell_type": "code",
      "source": [
        "df.info()"
      ],
      "metadata": {
        "colab": {
          "base_uri": "https://localhost:8080/"
        },
        "id": "BISnpTmqTiuW",
        "outputId": "98c17f98-aefb-453e-b80f-b42628bd7747"
      },
      "execution_count": 109,
      "outputs": [
        {
          "output_type": "stream",
          "name": "stdout",
          "text": [
            "<class 'pandas.core.frame.DataFrame'>\n",
            "RangeIndex: 1259 entries, 0 to 1258\n",
            "Data columns (total 7 columns):\n",
            " #   Column    Non-Null Count  Dtype  \n",
            "---  ------    --------------  -----  \n",
            " 0   Date      1259 non-null   object \n",
            " 1   Open      1259 non-null   float64\n",
            " 2   High      1259 non-null   float64\n",
            " 3   Low       1259 non-null   float64\n",
            " 4   Close     1259 non-null   float64\n",
            " 5   AdjClose  1259 non-null   float64\n",
            " 6   Volume    1259 non-null   float64\n",
            "dtypes: float64(6), object(1)\n",
            "memory usage: 69.0+ KB\n"
          ]
        }
      ]
    },
    {
      "cell_type": "code",
      "source": [
        "#missing values\n",
        "df.isnull().any()"
      ],
      "metadata": {
        "colab": {
          "base_uri": "https://localhost:8080/"
        },
        "id": "ms3vpG8iVUrM",
        "outputId": "36851f07-3937-41b8-b5ee-59d1d25bc73d"
      },
      "execution_count": 110,
      "outputs": [
        {
          "output_type": "execute_result",
          "data": {
            "text/plain": [
              "Date        False\n",
              "Open        False\n",
              "High        False\n",
              "Low         False\n",
              "Close       False\n",
              "AdjClose    False\n",
              "Volume      False\n",
              "dtype: bool"
            ]
          },
          "metadata": {},
          "execution_count": 110
        }
      ]
    },
    {
      "cell_type": "code",
      "source": [
        "#check for duplicates\n",
        "df.duplicated().sum()"
      ],
      "metadata": {
        "colab": {
          "base_uri": "https://localhost:8080/"
        },
        "id": "_23A_P9cpIHp",
        "outputId": "85480071-19cd-490b-b444-1f1e1afe7ab1"
      },
      "execution_count": 111,
      "outputs": [
        {
          "output_type": "execute_result",
          "data": {
            "text/plain": [
              "0"
            ]
          },
          "metadata": {},
          "execution_count": 111
        }
      ]
    },
    {
      "cell_type": "markdown",
      "source": [
        "There are no duplicates."
      ],
      "metadata": {
        "id": "cmxb2Iw9pWYk"
      }
    },
    {
      "cell_type": "code",
      "source": [
        "df['AdjClose'].value_counts()"
      ],
      "metadata": {
        "colab": {
          "base_uri": "https://localhost:8080/"
        },
        "id": "Fue60wZrTxDn",
        "outputId": "5d8c2dec-d5af-4c1b-fa64-98b622215962"
      },
      "execution_count": 112,
      "outputs": [
        {
          "output_type": "execute_result",
          "data": {
            "text/plain": [
              "2926.46    2\n",
              "2373.47    2\n",
              "2723.06    2\n",
              "2783.02    2\n",
              "2439.07    2\n",
              "          ..\n",
              "3130.01    1\n",
              "3179.72    1\n",
              "3145.32    1\n",
              "3169.94    1\n",
              "2395.96    1\n",
              "Name: AdjClose, Length: 1254, dtype: int64"
            ]
          },
          "metadata": {},
          "execution_count": 112
        }
      ]
    },
    {
      "cell_type": "markdown",
      "source": [
        "There are no missing values."
      ],
      "metadata": {
        "id": "ld3GQVvlpEww"
      }
    },
    {
      "cell_type": "code",
      "source": [
        "df.describe().T"
      ],
      "metadata": {
        "colab": {
          "base_uri": "https://localhost:8080/",
          "height": 237
        },
        "id": "jnGDb8fEWMoX",
        "outputId": "980b3657-48ff-4c90-c8d6-e07c9d948bb3"
      },
      "execution_count": 113,
      "outputs": [
        {
          "output_type": "execute_result",
          "data": {
            "text/html": [
              "\n",
              "  <div id=\"df-992d3c09-5bdf-46d5-8004-e6a52c99de00\">\n",
              "    <div class=\"colab-df-container\">\n",
              "      <div>\n",
              "<style scoped>\n",
              "    .dataframe tbody tr th:only-of-type {\n",
              "        vertical-align: middle;\n",
              "    }\n",
              "\n",
              "    .dataframe tbody tr th {\n",
              "        vertical-align: top;\n",
              "    }\n",
              "\n",
              "    .dataframe thead th {\n",
              "        text-align: right;\n",
              "    }\n",
              "</style>\n",
              "<table border=\"1\" class=\"dataframe\">\n",
              "  <thead>\n",
              "    <tr style=\"text-align: right;\">\n",
              "      <th></th>\n",
              "      <th>count</th>\n",
              "      <th>mean</th>\n",
              "      <th>std</th>\n",
              "      <th>min</th>\n",
              "      <th>25%</th>\n",
              "      <th>50%</th>\n",
              "      <th>75%</th>\n",
              "      <th>max</th>\n",
              "    </tr>\n",
              "  </thead>\n",
              "  <tbody>\n",
              "    <tr>\n",
              "      <th>Open</th>\n",
              "      <td>1259.0</td>\n",
              "      <td>3.188839e+03</td>\n",
              "      <td>6.889611e+02</td>\n",
              "      <td>2.290710e+03</td>\n",
              "      <td>2.691105e+03</td>\n",
              "      <td>2.918460e+03</td>\n",
              "      <td>3.634840e+03</td>\n",
              "      <td>4.804510e+03</td>\n",
              "    </tr>\n",
              "    <tr>\n",
              "      <th>High</th>\n",
              "      <td>1259.0</td>\n",
              "      <td>3.205340e+03</td>\n",
              "      <td>6.925491e+02</td>\n",
              "      <td>2.300730e+03</td>\n",
              "      <td>2.708745e+03</td>\n",
              "      <td>2.931150e+03</td>\n",
              "      <td>3.643310e+03</td>\n",
              "      <td>4.818620e+03</td>\n",
              "    </tr>\n",
              "    <tr>\n",
              "      <th>Low</th>\n",
              "      <td>1259.0</td>\n",
              "      <td>3.170685e+03</td>\n",
              "      <td>6.854006e+02</td>\n",
              "      <td>2.191860e+03</td>\n",
              "      <td>2.677385e+03</td>\n",
              "      <td>2.903820e+03</td>\n",
              "      <td>3.608960e+03</td>\n",
              "      <td>4.780040e+03</td>\n",
              "    </tr>\n",
              "    <tr>\n",
              "      <th>Close</th>\n",
              "      <td>1259.0</td>\n",
              "      <td>3.189185e+03</td>\n",
              "      <td>6.893080e+02</td>\n",
              "      <td>2.237400e+03</td>\n",
              "      <td>2.692190e+03</td>\n",
              "      <td>2.919370e+03</td>\n",
              "      <td>3.632530e+03</td>\n",
              "      <td>4.796560e+03</td>\n",
              "    </tr>\n",
              "    <tr>\n",
              "      <th>AdjClose</th>\n",
              "      <td>1259.0</td>\n",
              "      <td>3.189185e+03</td>\n",
              "      <td>6.893080e+02</td>\n",
              "      <td>2.237400e+03</td>\n",
              "      <td>2.692190e+03</td>\n",
              "      <td>2.919370e+03</td>\n",
              "      <td>3.632530e+03</td>\n",
              "      <td>4.796560e+03</td>\n",
              "    </tr>\n",
              "    <tr>\n",
              "      <th>Volume</th>\n",
              "      <td>1259.0</td>\n",
              "      <td>3.867971e+09</td>\n",
              "      <td>1.067455e+09</td>\n",
              "      <td>1.296540e+09</td>\n",
              "      <td>3.233955e+09</td>\n",
              "      <td>3.589930e+09</td>\n",
              "      <td>4.155015e+09</td>\n",
              "      <td>9.878040e+09</td>\n",
              "    </tr>\n",
              "  </tbody>\n",
              "</table>\n",
              "</div>\n",
              "      <button class=\"colab-df-convert\" onclick=\"convertToInteractive('df-992d3c09-5bdf-46d5-8004-e6a52c99de00')\"\n",
              "              title=\"Convert this dataframe to an interactive table.\"\n",
              "              style=\"display:none;\">\n",
              "        \n",
              "  <svg xmlns=\"http://www.w3.org/2000/svg\" height=\"24px\"viewBox=\"0 0 24 24\"\n",
              "       width=\"24px\">\n",
              "    <path d=\"M0 0h24v24H0V0z\" fill=\"none\"/>\n",
              "    <path d=\"M18.56 5.44l.94 2.06.94-2.06 2.06-.94-2.06-.94-.94-2.06-.94 2.06-2.06.94zm-11 1L8.5 8.5l.94-2.06 2.06-.94-2.06-.94L8.5 2.5l-.94 2.06-2.06.94zm10 10l.94 2.06.94-2.06 2.06-.94-2.06-.94-.94-2.06-.94 2.06-2.06.94z\"/><path d=\"M17.41 7.96l-1.37-1.37c-.4-.4-.92-.59-1.43-.59-.52 0-1.04.2-1.43.59L10.3 9.45l-7.72 7.72c-.78.78-.78 2.05 0 2.83L4 21.41c.39.39.9.59 1.41.59.51 0 1.02-.2 1.41-.59l7.78-7.78 2.81-2.81c.8-.78.8-2.07 0-2.86zM5.41 20L4 18.59l7.72-7.72 1.47 1.35L5.41 20z\"/>\n",
              "  </svg>\n",
              "      </button>\n",
              "      \n",
              "  <style>\n",
              "    .colab-df-container {\n",
              "      display:flex;\n",
              "      flex-wrap:wrap;\n",
              "      gap: 12px;\n",
              "    }\n",
              "\n",
              "    .colab-df-convert {\n",
              "      background-color: #E8F0FE;\n",
              "      border: none;\n",
              "      border-radius: 50%;\n",
              "      cursor: pointer;\n",
              "      display: none;\n",
              "      fill: #1967D2;\n",
              "      height: 32px;\n",
              "      padding: 0 0 0 0;\n",
              "      width: 32px;\n",
              "    }\n",
              "\n",
              "    .colab-df-convert:hover {\n",
              "      background-color: #E2EBFA;\n",
              "      box-shadow: 0px 1px 2px rgba(60, 64, 67, 0.3), 0px 1px 3px 1px rgba(60, 64, 67, 0.15);\n",
              "      fill: #174EA6;\n",
              "    }\n",
              "\n",
              "    [theme=dark] .colab-df-convert {\n",
              "      background-color: #3B4455;\n",
              "      fill: #D2E3FC;\n",
              "    }\n",
              "\n",
              "    [theme=dark] .colab-df-convert:hover {\n",
              "      background-color: #434B5C;\n",
              "      box-shadow: 0px 1px 3px 1px rgba(0, 0, 0, 0.15);\n",
              "      filter: drop-shadow(0px 1px 2px rgba(0, 0, 0, 0.3));\n",
              "      fill: #FFFFFF;\n",
              "    }\n",
              "  </style>\n",
              "\n",
              "      <script>\n",
              "        const buttonEl =\n",
              "          document.querySelector('#df-992d3c09-5bdf-46d5-8004-e6a52c99de00 button.colab-df-convert');\n",
              "        buttonEl.style.display =\n",
              "          google.colab.kernel.accessAllowed ? 'block' : 'none';\n",
              "\n",
              "        async function convertToInteractive(key) {\n",
              "          const element = document.querySelector('#df-992d3c09-5bdf-46d5-8004-e6a52c99de00');\n",
              "          const dataTable =\n",
              "            await google.colab.kernel.invokeFunction('convertToInteractive',\n",
              "                                                     [key], {});\n",
              "          if (!dataTable) return;\n",
              "\n",
              "          const docLinkHtml = 'Like what you see? Visit the ' +\n",
              "            '<a target=\"_blank\" href=https://colab.research.google.com/notebooks/data_table.ipynb>data table notebook</a>'\n",
              "            + ' to learn more about interactive tables.';\n",
              "          element.innerHTML = '';\n",
              "          dataTable['output_type'] = 'display_data';\n",
              "          await google.colab.output.renderOutput(dataTable, element);\n",
              "          const docLink = document.createElement('div');\n",
              "          docLink.innerHTML = docLinkHtml;\n",
              "          element.appendChild(docLink);\n",
              "        }\n",
              "      </script>\n",
              "    </div>\n",
              "  </div>\n",
              "  "
            ],
            "text/plain": [
              "           count          mean           std           min           25%  \\\n",
              "Open      1259.0  3.188839e+03  6.889611e+02  2.290710e+03  2.691105e+03   \n",
              "High      1259.0  3.205340e+03  6.925491e+02  2.300730e+03  2.708745e+03   \n",
              "Low       1259.0  3.170685e+03  6.854006e+02  2.191860e+03  2.677385e+03   \n",
              "Close     1259.0  3.189185e+03  6.893080e+02  2.237400e+03  2.692190e+03   \n",
              "AdjClose  1259.0  3.189185e+03  6.893080e+02  2.237400e+03  2.692190e+03   \n",
              "Volume    1259.0  3.867971e+09  1.067455e+09  1.296540e+09  3.233955e+09   \n",
              "\n",
              "                   50%           75%           max  \n",
              "Open      2.918460e+03  3.634840e+03  4.804510e+03  \n",
              "High      2.931150e+03  3.643310e+03  4.818620e+03  \n",
              "Low       2.903820e+03  3.608960e+03  4.780040e+03  \n",
              "Close     2.919370e+03  3.632530e+03  4.796560e+03  \n",
              "AdjClose  2.919370e+03  3.632530e+03  4.796560e+03  \n",
              "Volume    3.589930e+09  4.155015e+09  9.878040e+09  "
            ]
          },
          "metadata": {},
          "execution_count": 113
        }
      ]
    },
    {
      "cell_type": "markdown",
      "source": [
        "##Daily Adjusted Close\n"
      ],
      "metadata": {
        "id": "v8LhCVOTVqwm"
      }
    },
    {
      "cell_type": "code",
      "source": [
        "df['Date'] = pd.to_datetime(df['Date'], infer_datetime_format=True)"
      ],
      "metadata": {
        "id": "JaswJLReEw8o"
      },
      "execution_count": 114,
      "outputs": []
    },
    {
      "cell_type": "code",
      "source": [
        "import matplotlib.pyplot as plt\n",
        "import datetime\n",
        "import numpy as np\n",
        "plt.figure(figsize = (15,8))\n",
        "\n",
        "#https://www.statology.org/matplotlib-time-series/\n",
        "\n",
        "x = df['Date']\n",
        "y= df['AdjClose']\n",
        "plt.title('S&P Daily Adjusted Close Feb 2017-2022')\n",
        "plt.xlabel('Year')\n",
        "plt.ylabel('Dollars');\n",
        "\n",
        "plt.plot(x,y)\n",
        "plt.show()"
      ],
      "metadata": {
        "colab": {
          "base_uri": "https://localhost:8080/",
          "height": 513
        },
        "id": "WV-h0lpQ5XCF",
        "outputId": "09c10419-fff3-4c81-a595-9dae3f396d17"
      },
      "execution_count": 115,
      "outputs": [
        {
          "output_type": "display_data",
          "data": {
            "image/png": "[encoded data removed]",
            "text/plain": [
              "<Figure size 1080x576 with 1 Axes>"
            ]
          },
          "metadata": {
            "needs_background": "light"
          }
        }
      ]
    },
    {
      "cell_type": "markdown",
      "source": [
        "#RNN Models"
      ],
      "metadata": {
        "id": "YeIKomwq6MOE"
      }
    },
    {
      "cell_type": "markdown",
      "source": [
        "##Simple LSTM"
      ],
      "metadata": {
        "id": "JVD8gB-vqwL3"
      }
    },
    {
      "cell_type": "code",
      "source": [
        "#upload from raw link on github\n",
        "data = pd.read_csv('https://raw.githubusercontent.com/LaurenVaught/FinancialTimeSeries/main/SP500.csv') "
      ],
      "metadata": {
        "id": "Hfdk9n16wMRk"
      },
      "execution_count": 130,
      "outputs": []
    },
    {
      "cell_type": "code",
      "source": [
        "# reshape\n",
        "# Choice \"open\" feature:\n",
        "dataset = data.iloc[:,1].values\n",
        "dataset = dataset.reshape(-1,1) \n",
        "dataset = dataset.astype(\"float32\")\n",
        "dataset.shape"
      ],
      "metadata": {
        "colab": {
          "base_uri": "https://localhost:8080/"
        },
        "id": "n5ks9kaRwLGx",
        "outputId": "fca4a274-f864-4d09-ea34-44dca87a97bf"
      },
      "execution_count": 131,
      "outputs": [
        {
          "output_type": "execute_result",
          "data": {
            "text/plain": [
              "(1259, 1)"
            ]
          },
          "metadata": {},
          "execution_count": 131
        }
      ]
    },
    {
      "cell_type": "code",
      "source": [
        "# scaling \n",
        "scaler = MinMaxScaler(feature_range=(0, 1))\n",
        "dataset = scaler.fit_transform(dataset)"
      ],
      "metadata": {
        "id": "x6uTAUqzwLAF"
      },
      "execution_count": 132,
      "outputs": []
    },
    {
      "cell_type": "code",
      "source": [
        "# train test split\n",
        "train_size = int(len(dataset) * 0.75) # Split dataset 75% for train set, 25% for test set\n",
        "test_size = len(dataset) - train_size\n",
        "train = dataset[0:train_size,:]\n",
        "test = dataset[train_size:len(dataset),:]\n",
        "print(\"train size: {}, test size: {} \".format(len(train), len(test)))"
      ],
      "metadata": {
        "colab": {
          "base_uri": "https://localhost:8080/"
        },
        "id": "ygbnYI5iwU7-",
        "outputId": "87763718-f55e-4be5-a0e1-4ec5c4fe7f52"
      },
      "execution_count": 133,
      "outputs": [
        {
          "output_type": "stream",
          "name": "stdout",
          "text": [
            "train size: 944, test size: 315 \n"
          ]
        }
      ]
    },
    {
      "cell_type": "code",
      "source": [
        "time_stemp = 10\n",
        "dataX = []\n",
        "dataY = []\n",
        "for i in range(len(train)-time_stemp-1):\n",
        "    a = train[i:(i+time_stemp), 0]\n",
        "    dataX.append(a)\n",
        "    dataY.append(train[i + time_stemp, 0])\n",
        "trainX = numpy.array(dataX)\n",
        "trainY = numpy.array(dataY)  "
      ],
      "metadata": {
        "id": "y3siB01qwXdt"
      },
      "execution_count": 134,
      "outputs": []
    },
    {
      "cell_type": "code",
      "source": [
        "dataX = []\n",
        "dataY = []\n",
        "for i in range(len(test)-time_stemp-1):\n",
        "    a = test[i:(i+time_stemp), 0]\n",
        "    dataX.append(a)\n",
        "    dataY.append(test[i + time_stemp, 0])\n",
        "testX = numpy.array(dataX)\n",
        "testY = numpy.array(dataY)  "
      ],
      "metadata": {
        "id": "2Nq6iDx1wY7m"
      },
      "execution_count": 135,
      "outputs": []
    },
    {
      "cell_type": "code",
      "source": [
        "trainX = numpy.reshape(trainX, (trainX.shape[0], 1, trainX.shape[1]))\n",
        "testX = numpy.reshape(testX, (testX.shape[0], 1, testX.shape[1]))"
      ],
      "metadata": {
        "id": "0OVhpjrGwY09"
      },
      "execution_count": 136,
      "outputs": []
    },
    {
      "cell_type": "code",
      "source": [
        "# model\n",
        "model = Sequential()\n",
        "model.add(LSTM(10, input_shape=(1, time_stemp))) # 10 lstm neuron(block)\n",
        "model.add(Dense(1))\n",
        "model.compile(loss='mean_squared_error', optimizer='adam')\n",
        "model.fit(trainX, trainY, epochs=50, batch_size=1)"
      ],
      "metadata": {
        "colab": {
          "base_uri": "https://localhost:8080/"
        },
        "id": "DO3x35fwwYuL",
        "outputId": "a9be1101-d5d6-4b59-acb0-ee85138df757"
      },
      "execution_count": 137,
      "outputs": [
        {
          "output_type": "stream",
          "name": "stdout",
          "text": [
            "Epoch 1/50\n",
            "933/933 [==============================] - 4s 2ms/step - loss: 0.0100\n",
            "Epoch 2/50\n",
            "933/933 [==============================] - 2s 2ms/step - loss: 8.4600e-04\n",
            "Epoch 3/50\n",
            "933/933 [==============================] - 2s 2ms/step - loss: 7.8406e-04\n",
            "Epoch 4/50\n",
            "933/933 [==============================] - 2s 2ms/step - loss: 7.1164e-04\n",
            "Epoch 5/50\n",
            "933/933 [==============================] - 2s 2ms/step - loss: 6.1026e-04\n",
            "Epoch 6/50\n",
            "933/933 [==============================] - 2s 2ms/step - loss: 5.6737e-04\n",
            "Epoch 7/50\n",
            "933/933 [==============================] - 2s 2ms/step - loss: 4.8695e-04\n",
            "Epoch 8/50\n",
            "933/933 [==============================] - 2s 2ms/step - loss: 4.4094e-04\n",
            "Epoch 9/50\n",
            "933/933 [==============================] - 2s 2ms/step - loss: 4.4234e-04\n",
            "Epoch 10/50\n",
            "933/933 [==============================] - 2s 2ms/step - loss: 3.9091e-04\n",
            "Epoch 11/50\n",
            "933/933 [==============================] - 2s 2ms/step - loss: 3.6954e-04\n",
            "Epoch 12/50\n",
            "933/933 [==============================] - 2s 2ms/step - loss: 3.7162e-04\n",
            "Epoch 13/50\n",
            "933/933 [==============================] - 2s 2ms/step - loss: 3.6594e-04\n",
            "Epoch 14/50\n",
            "933/933 [==============================] - 2s 2ms/step - loss: 3.6194e-04\n",
            "Epoch 15/50\n",
            "933/933 [==============================] - 2s 2ms/step - loss: 3.7241e-04\n",
            "Epoch 16/50\n",
            "933/933 [==============================] - 2s 2ms/step - loss: 3.5276e-04\n",
            "Epoch 17/50\n",
            "933/933 [==============================] - 2s 2ms/step - loss: 3.4976e-04\n",
            "Epoch 18/50\n",
            "933/933 [==============================] - 2s 2ms/step - loss: 3.4637e-04\n",
            "Epoch 19/50\n",
            "933/933 [==============================] - 2s 2ms/step - loss: 3.0827e-04\n",
            "Epoch 20/50\n",
            "933/933 [==============================] - 2s 2ms/step - loss: 3.3705e-04\n",
            "Epoch 21/50\n",
            "933/933 [==============================] - 2s 2ms/step - loss: 3.1888e-04\n",
            "Epoch 22/50\n",
            "933/933 [==============================] - 2s 2ms/step - loss: 3.0659e-04\n",
            "Epoch 23/50\n",
            "933/933 [==============================] - 2s 2ms/step - loss: 3.1041e-04\n",
            "Epoch 24/50\n",
            "933/933 [==============================] - 2s 2ms/step - loss: 3.0752e-04\n",
            "Epoch 25/50\n",
            "933/933 [==============================] - 2s 2ms/step - loss: 3.0224e-04\n",
            "Epoch 26/50\n",
            "933/933 [==============================] - 2s 2ms/step - loss: 3.1854e-04\n",
            "Epoch 27/50\n",
            "933/933 [==============================] - 2s 2ms/step - loss: 3.0928e-04\n",
            "Epoch 28/50\n",
            "933/933 [==============================] - 2s 2ms/step - loss: 2.8155e-04\n",
            "Epoch 29/50\n",
            "933/933 [==============================] - 2s 2ms/step - loss: 3.1085e-04\n",
            "Epoch 30/50\n",
            "933/933 [==============================] - 2s 2ms/step - loss: 2.9635e-04\n",
            "Epoch 31/50\n",
            "933/933 [==============================] - 2s 2ms/step - loss: 2.9719e-04\n",
            "Epoch 32/50\n",
            "933/933 [==============================] - 2s 2ms/step - loss: 3.0227e-04\n",
            "Epoch 33/50\n",
            "933/933 [==============================] - 2s 2ms/step - loss: 2.9190e-04\n",
            "Epoch 34/50\n",
            "933/933 [==============================] - 2s 2ms/step - loss: 2.7110e-04\n",
            "Epoch 35/50\n",
            "933/933 [==============================] - 2s 2ms/step - loss: 2.7170e-04\n",
            "Epoch 36/50\n",
            "933/933 [==============================] - 2s 2ms/step - loss: 2.6935e-04\n",
            "Epoch 37/50\n",
            "933/933 [==============================] - 2s 2ms/step - loss: 2.7761e-04\n",
            "Epoch 38/50\n",
            "933/933 [==============================] - 2s 2ms/step - loss: 2.6516e-04\n",
            "Epoch 39/50\n",
            "933/933 [==============================] - 2s 2ms/step - loss: 2.7118e-04\n",
            "Epoch 40/50\n",
            "933/933 [==============================] - 2s 2ms/step - loss: 2.5916e-04\n",
            "Epoch 41/50\n",
            "933/933 [==============================] - 2s 2ms/step - loss: 2.6237e-04\n",
            "Epoch 42/50\n",
            "933/933 [==============================] - 2s 2ms/step - loss: 3.0579e-04\n",
            "Epoch 43/50\n",
            "933/933 [==============================] - 2s 2ms/step - loss: 2.4843e-04\n",
            "Epoch 44/50\n",
            "933/933 [==============================] - 2s 2ms/step - loss: 2.5767e-04\n",
            "Epoch 45/50\n",
            "933/933 [==============================] - 2s 2ms/step - loss: 2.7070e-04\n",
            "Epoch 46/50\n",
            "933/933 [==============================] - 2s 2ms/step - loss: 2.6827e-04\n",
            "Epoch 47/50\n",
            "933/933 [==============================] - 2s 2ms/step - loss: 2.5317e-04\n",
            "Epoch 48/50\n",
            "933/933 [==============================] - 2s 2ms/step - loss: 2.5497e-04\n",
            "Epoch 49/50\n",
            "933/933 [==============================] - 2s 2ms/step - loss: 2.7371e-04\n",
            "Epoch 50/50\n",
            "933/933 [==============================] - 2s 2ms/step - loss: 2.6409e-04\n"
          ]
        },
        {
          "output_type": "execute_result",
          "data": {
            "text/plain": [
              "<keras.callbacks.History at 0x7fcec2497790>"
            ]
          },
          "metadata": {},
          "execution_count": 137
        }
      ]
    },
    {
      "cell_type": "code",
      "source": [
        "trainPredict = model.predict(trainX)\n",
        "testPredict = model.predict(testX)\n",
        "# invert predictions\n",
        "trainPredict = scaler.inverse_transform(trainPredict)\n",
        "trainY = scaler.inverse_transform([trainY])\n",
        "testPredict = scaler.inverse_transform(testPredict)\n",
        "testY = scaler.inverse_transform([testY])\n",
        "# calculate root mean squared error\n",
        "trainScore = math.sqrt(mean_squared_error(trainY[0], trainPredict[:,0]))\n",
        "print('Train Score: %.2f RMSE' % (trainScore))\n",
        "testScore_vanilla = math.sqrt(mean_squared_error(testY[0], testPredict[:,0]))\n",
        "print('Test Score: %.2f RMSE' % (testScore_vanilla))"
      ],
      "metadata": {
        "colab": {
          "base_uri": "https://localhost:8080/"
        },
        "id": "M0J2iXCMwfvF",
        "outputId": "ed762429-30b0-4fa5-a572-6206257c8a7c"
      },
      "execution_count": 138,
      "outputs": [
        {
          "output_type": "stream",
          "name": "stdout",
          "text": [
            "Train Score: 35.47 RMSE\n",
            "Test Score: 38.75 RMSE\n"
          ]
        }
      ]
    },
    {
      "cell_type": "code",
      "source": [
        "# shifting train\n",
        "trainPredictPlot = numpy.empty_like(dataset)\n",
        "trainPredictPlot[:, :] = numpy.nan\n",
        "trainPredictPlot[time_stemp:len(trainPredict)+time_stemp, :] = trainPredict\n",
        "# shifting test predictions for plotting\n",
        "testPredictPlot = numpy.empty_like(dataset)\n",
        "testPredictPlot[:, :] = numpy.nan\n",
        "testPredictPlot[len(trainPredict)+(time_stemp*2)+1:len(dataset)-1, :] = testPredict\n",
        "# plot baseline and predictions\n",
        "f,ax = plt.subplots(figsize = (30,7))\n",
        "plt.plot(scaler.inverse_transform(dataset))\n",
        "plt.plot(trainPredictPlot)\n",
        "plt.plot(testPredictPlot)\n",
        "plt.show()"
      ],
      "metadata": {
        "colab": {
          "base_uri": "https://localhost:8080/",
          "height": 425
        },
        "id": "ZkJD-OVLwgNq",
        "outputId": "8a4a03f5-e7b4-4087-f831-a805dfcd68a8"
      },
      "execution_count": 139,
      "outputs": [
        {
          "output_type": "display_data",
          "data": {
            "image/png": "[encoded data removed]",
            "text/plain": [
              "<Figure size 2160x504 with 1 Axes>"
            ]
          },
          "metadata": {
            "needs_background": "light"
          }
        }
      ]
    },
    {
      "cell_type": "markdown",
      "source": [
        "##Stacked LSTM"
      ],
      "metadata": {
        "id": "hydctrZ4wsCU"
      }
    },
    {
      "cell_type": "code",
      "source": [
        "# reshape\n",
        "# Choice \"open\" feature:\n",
        "dataset = data.iloc[:,1].values\n",
        "dataset = dataset.reshape(-1,1) \n",
        "dataset = dataset.astype(\"float32\")\n",
        "dataset.shape"
      ],
      "metadata": {
        "colab": {
          "base_uri": "https://localhost:8080/"
        },
        "id": "u5NRj418xsx5",
        "outputId": "38b764c0-edc8-4a47-e95b-2cf566d91e0f"
      },
      "execution_count": 140,
      "outputs": [
        {
          "output_type": "execute_result",
          "data": {
            "text/plain": [
              "(1259, 1)"
            ]
          },
          "metadata": {},
          "execution_count": 140
        }
      ]
    },
    {
      "cell_type": "code",
      "source": [
        "# scaling \n",
        "scaler = MinMaxScaler(feature_range=(0, 1))\n",
        "dataset = scaler.fit_transform(dataset)"
      ],
      "metadata": {
        "id": "b-U08pxLxsrZ"
      },
      "execution_count": 141,
      "outputs": []
    },
    {
      "cell_type": "code",
      "source": [
        "# train test split\n",
        "train_size = int(len(dataset) * 0.75) # Split dataset 75% for train set, 25% for test set\n",
        "test_size = len(dataset) - train_size\n",
        "train = dataset[0:train_size,:]\n",
        "test = dataset[train_size:len(dataset),:]\n",
        "print(\"train size: {}, test size: {} \".format(len(train), len(test)))"
      ],
      "metadata": {
        "colab": {
          "base_uri": "https://localhost:8080/"
        },
        "id": "aVZhp26DxsjZ",
        "outputId": "9d89a698-0673-4755-fb66-7d570511dbd1"
      },
      "execution_count": 142,
      "outputs": [
        {
          "output_type": "stream",
          "name": "stdout",
          "text": [
            "train size: 944, test size: 315 \n"
          ]
        }
      ]
    },
    {
      "cell_type": "code",
      "source": [
        "time_stemp = 10\n",
        "dataX = []\n",
        "dataY = []\n",
        "for i in range(len(train)-time_stemp-1):\n",
        "    a = train[i:(i+time_stemp), 0]\n",
        "    dataX.append(a)\n",
        "    dataY.append(train[i + time_stemp, 0])\n",
        "trainX = numpy.array(dataX)\n",
        "trainY = numpy.array(dataY)  "
      ],
      "metadata": {
        "id": "qBdhhqWBx4Uq"
      },
      "execution_count": 143,
      "outputs": []
    },
    {
      "cell_type": "code",
      "source": [
        "dataX = []\n",
        "dataY = []\n",
        "for i in range(len(test)-time_stemp-1):\n",
        "    a = test[i:(i+time_stemp), 0]\n",
        "    dataX.append(a)\n",
        "    dataY.append(test[i + time_stemp, 0])\n",
        "testX = numpy.array(dataX)\n",
        "testY = numpy.array(dataY)  "
      ],
      "metadata": {
        "id": "aEhWIl0Bx4Na"
      },
      "execution_count": 144,
      "outputs": []
    },
    {
      "cell_type": "code",
      "source": [
        "trainX = numpy.reshape(trainX, (trainX.shape[0], 1, trainX.shape[1]))\n",
        "testX = numpy.reshape(testX, (testX.shape[0], 1, testX.shape[1]))"
      ],
      "metadata": {
        "id": "BWnGqBOjyIpP"
      },
      "execution_count": 145,
      "outputs": []
    },
    {
      "cell_type": "code",
      "source": [
        "# define model\n",
        "model = Sequential()\n",
        "model.add(LSTM(50, activation='relu', return_sequences=True, input_shape=(1,time_stemp)))\n",
        "model.add(LSTM(50, activation='relu'))\n",
        "model.add(Dense(1))\n",
        "model.compile(optimizer='adam', loss='mse')\n",
        "model.fit(trainX, trainY, epochs=50, batch_size=1)"
      ],
      "metadata": {
        "colab": {
          "base_uri": "https://localhost:8080/"
        },
        "id": "5WbEXvKxxUyd",
        "outputId": "89e07a29-ea36-4f7c-b106-c0b783908f55"
      },
      "execution_count": 146,
      "outputs": [
        {
          "output_type": "stream",
          "name": "stdout",
          "text": [
            "Epoch 1/50\n",
            "933/933 [==============================] - 4s 3ms/step - loss: 0.0134\n",
            "Epoch 2/50\n",
            "933/933 [==============================] - 3s 3ms/step - loss: 0.0014\n",
            "Epoch 3/50\n",
            "933/933 [==============================] - 3s 3ms/step - loss: 9.9453e-04\n",
            "Epoch 4/50\n",
            "933/933 [==============================] - 2s 3ms/step - loss: 8.6400e-04\n",
            "Epoch 5/50\n",
            "933/933 [==============================] - 3s 3ms/step - loss: 6.8723e-04\n",
            "Epoch 6/50\n",
            "933/933 [==============================] - 3s 3ms/step - loss: 6.4441e-04\n",
            "Epoch 7/50\n",
            "933/933 [==============================] - 3s 4ms/step - loss: 7.0497e-04\n",
            "Epoch 8/50\n",
            "933/933 [==============================] - 5s 5ms/step - loss: 5.2703e-04\n",
            "Epoch 9/50\n",
            "933/933 [==============================] - 5s 5ms/step - loss: 5.8225e-04\n",
            "Epoch 10/50\n",
            "933/933 [==============================] - 3s 3ms/step - loss: 5.4891e-04\n",
            "Epoch 11/50\n",
            "933/933 [==============================] - 3s 3ms/step - loss: 4.9389e-04\n",
            "Epoch 12/50\n",
            "933/933 [==============================] - 3s 3ms/step - loss: 4.7418e-04\n",
            "Epoch 13/50\n",
            "933/933 [==============================] - 3s 3ms/step - loss: 4.9559e-04\n",
            "Epoch 14/50\n",
            "933/933 [==============================] - 2s 3ms/step - loss: 4.4105e-04\n",
            "Epoch 15/50\n",
            "933/933 [==============================] - 3s 3ms/step - loss: 4.0712e-04\n",
            "Epoch 16/50\n",
            "933/933 [==============================] - 3s 3ms/step - loss: 4.3091e-04\n",
            "Epoch 17/50\n",
            "933/933 [==============================] - 3s 3ms/step - loss: 4.1251e-04\n",
            "Epoch 18/50\n",
            "933/933 [==============================] - 3s 3ms/step - loss: 4.2966e-04\n",
            "Epoch 19/50\n",
            "933/933 [==============================] - 3s 3ms/step - loss: 4.4326e-04\n",
            "Epoch 20/50\n",
            "933/933 [==============================] - 3s 3ms/step - loss: 3.9329e-04\n",
            "Epoch 21/50\n",
            "933/933 [==============================] - 2s 3ms/step - loss: 3.9233e-04\n",
            "Epoch 22/50\n",
            "933/933 [==============================] - 2s 3ms/step - loss: 4.3585e-04\n",
            "Epoch 23/50\n",
            "933/933 [==============================] - 2s 3ms/step - loss: 4.3830e-04\n",
            "Epoch 24/50\n",
            "933/933 [==============================] - 3s 3ms/step - loss: 4.1094e-04\n",
            "Epoch 25/50\n",
            "933/933 [==============================] - 3s 3ms/step - loss: 3.4983e-04\n",
            "Epoch 26/50\n",
            "933/933 [==============================] - 3s 3ms/step - loss: 3.6897e-04\n",
            "Epoch 27/50\n",
            "933/933 [==============================] - 3s 3ms/step - loss: 3.6334e-04\n",
            "Epoch 28/50\n",
            "933/933 [==============================] - 3s 3ms/step - loss: 3.1769e-04\n",
            "Epoch 29/50\n",
            "933/933 [==============================] - 3s 3ms/step - loss: 3.6590e-04\n",
            "Epoch 30/50\n",
            "933/933 [==============================] - 2s 3ms/step - loss: 3.4204e-04\n",
            "Epoch 31/50\n",
            "933/933 [==============================] - 2s 3ms/step - loss: 3.4491e-04\n",
            "Epoch 32/50\n",
            "933/933 [==============================] - 2s 3ms/step - loss: 3.8970e-04\n",
            "Epoch 33/50\n",
            "933/933 [==============================] - 2s 3ms/step - loss: 3.1698e-04\n",
            "Epoch 34/50\n",
            "933/933 [==============================] - 3s 3ms/step - loss: 3.3339e-04\n",
            "Epoch 35/50\n",
            "933/933 [==============================] - 3s 3ms/step - loss: 3.2682e-04\n",
            "Epoch 36/50\n",
            "933/933 [==============================] - 2s 3ms/step - loss: 3.5669e-04\n",
            "Epoch 37/50\n",
            "933/933 [==============================] - 3s 3ms/step - loss: 3.5243e-04\n",
            "Epoch 38/50\n",
            "933/933 [==============================] - 3s 3ms/step - loss: 3.4870e-04\n",
            "Epoch 39/50\n",
            "933/933 [==============================] - 3s 3ms/step - loss: 3.8252e-04\n",
            "Epoch 40/50\n",
            "933/933 [==============================] - 3s 3ms/step - loss: 2.8998e-04\n",
            "Epoch 41/50\n",
            "933/933 [==============================] - 4s 4ms/step - loss: 3.0935e-04\n",
            "Epoch 42/50\n",
            "933/933 [==============================] - 4s 4ms/step - loss: 3.5490e-04\n",
            "Epoch 43/50\n",
            "933/933 [==============================] - 3s 3ms/step - loss: 3.1425e-04\n",
            "Epoch 44/50\n",
            "933/933 [==============================] - 3s 3ms/step - loss: 3.1886e-04\n",
            "Epoch 45/50\n",
            "933/933 [==============================] - 3s 3ms/step - loss: 2.8079e-04\n",
            "Epoch 46/50\n",
            "933/933 [==============================] - 3s 3ms/step - loss: 3.4864e-04\n",
            "Epoch 47/50\n",
            "933/933 [==============================] - 3s 3ms/step - loss: 3.0724e-04\n",
            "Epoch 48/50\n",
            "933/933 [==============================] - 2s 3ms/step - loss: 3.0419e-04\n",
            "Epoch 49/50\n",
            "933/933 [==============================] - 2s 3ms/step - loss: 3.5665e-04\n",
            "Epoch 50/50\n",
            "933/933 [==============================] - 2s 3ms/step - loss: 3.3721e-04\n"
          ]
        },
        {
          "output_type": "execute_result",
          "data": {
            "text/plain": [
              "<keras.callbacks.History at 0x7fcec1f819d0>"
            ]
          },
          "metadata": {},
          "execution_count": 146
        }
      ]
    },
    {
      "cell_type": "code",
      "source": [
        "trainPredict = model.predict(trainX)\n",
        "testPredict = model.predict(testX)\n",
        "# invert predictions\n",
        "trainPredict = scaler.inverse_transform(trainPredict)\n",
        "trainY = scaler.inverse_transform([trainY])\n",
        "testPredict = scaler.inverse_transform(testPredict)\n",
        "testY = scaler.inverse_transform([testY])\n",
        "# calculate root mean squared error\n",
        "trainScore = math.sqrt(mean_squared_error(trainY[0], trainPredict[:,0]))\n",
        "print('Train Score: %.2f RMSE' % (trainScore))\n",
        "testScore_Stacked = math.sqrt(mean_squared_error(testY[0], testPredict[:,0]))\n",
        "print('Test Score: %.2f RMSE' % (testScore_Stacked))"
      ],
      "metadata": {
        "colab": {
          "base_uri": "https://localhost:8080/"
        },
        "id": "KIBr3LYsxUqg",
        "outputId": "795df0aa-4fda-444c-8e94-503485165dcb"
      },
      "execution_count": 147,
      "outputs": [
        {
          "output_type": "stream",
          "name": "stdout",
          "text": [
            "Train Score: 37.71 RMSE\n",
            "Test Score: 77.55 RMSE\n"
          ]
        }
      ]
    },
    {
      "cell_type": "code",
      "source": [
        "# shifting train\n",
        "trainPredictPlot = numpy.empty_like(dataset)\n",
        "trainPredictPlot[:, :] = numpy.nan\n",
        "trainPredictPlot[time_stemp:len(trainPredict)+time_stemp, :] = trainPredict\n",
        "# shifting test predictions for plotting\n",
        "testPredictPlot = numpy.empty_like(dataset)\n",
        "testPredictPlot[:, :] = numpy.nan\n",
        "testPredictPlot[len(trainPredict)+(time_stemp*2)+1:len(dataset)-1, :] = testPredict\n",
        "# plot baseline and predictions\n",
        "f,ax = plt.subplots(figsize = (30,7))\n",
        "plt.plot(scaler.inverse_transform(dataset))\n",
        "plt.plot(trainPredictPlot)\n",
        "plt.plot(testPredictPlot)\n",
        "plt.show()\n"
      ],
      "metadata": {
        "colab": {
          "base_uri": "https://localhost:8080/",
          "height": 425
        },
        "id": "_0S_IfinyoRf",
        "outputId": "a4672ee2-bc2f-44ae-ddf0-fd6a3fd6c66d"
      },
      "execution_count": 148,
      "outputs": [
        {
          "output_type": "display_data",
          "data": {
            "image/png": "[encoded data removed]",
            "text/plain": [
              "<Figure size 2160x504 with 1 Axes>"
            ]
          },
          "metadata": {
            "needs_background": "light"
          }
        }
      ]
    },
    {
      "cell_type": "markdown",
      "source": [
        "##Bidirectional LSTM"
      ],
      "metadata": {
        "id": "E7eA7TgjzY58"
      }
    },
    {
      "cell_type": "code",
      "source": [
        "# reshape\n",
        "# Choice \"open\" feature:\n",
        "dataset = data.iloc[:,1].values\n",
        "dataset = dataset.reshape(-1,1) \n",
        "dataset = dataset.astype(\"float32\")\n",
        "dataset.shape"
      ],
      "metadata": {
        "colab": {
          "base_uri": "https://localhost:8080/"
        },
        "id": "PJqX5ktsrFus",
        "outputId": "2c1fadc3-9d77-4bb3-92b5-10b3b3190a90"
      },
      "execution_count": 149,
      "outputs": [
        {
          "output_type": "execute_result",
          "data": {
            "text/plain": [
              "(1259, 1)"
            ]
          },
          "metadata": {},
          "execution_count": 149
        }
      ]
    },
    {
      "cell_type": "code",
      "source": [
        "# scaling \n",
        "scaler = MinMaxScaler(feature_range=(0, 1))\n",
        "dataset = scaler.fit_transform(dataset)"
      ],
      "metadata": {
        "id": "z3CfKnSIzfJD"
      },
      "execution_count": 150,
      "outputs": []
    },
    {
      "cell_type": "code",
      "source": [
        "# train test split\n",
        "train_size = int(len(dataset) * 0.80) # Split dataset 80% for train set, 20% for test set\n",
        "test_size = len(dataset) - train_size\n",
        "train = dataset[0:train_size,:]\n",
        "test = dataset[train_size:len(dataset),:]\n",
        "print(\"train size: {}, test size: {} \".format(len(train), len(test)))"
      ],
      "metadata": {
        "colab": {
          "base_uri": "https://localhost:8080/"
        },
        "id": "nqMTQb8LzfGG",
        "outputId": "559092fa-3b2d-4247-be4c-ed8ec0e6fef8"
      },
      "execution_count": 151,
      "outputs": [
        {
          "output_type": "stream",
          "name": "stdout",
          "text": [
            "train size: 1007, test size: 252 \n"
          ]
        }
      ]
    },
    {
      "cell_type": "code",
      "source": [
        "time_stemp = 10\n",
        "dataX = []\n",
        "dataY = []\n",
        "for i in range(len(train)-time_stemp-1):\n",
        "    a = train[i:(i+time_stemp), 0]\n",
        "    dataX.append(a)\n",
        "    dataY.append(train[i + time_stemp, 0])\n",
        "trainX = numpy.array(dataX)\n",
        "trainY = numpy.array(dataY)  "
      ],
      "metadata": {
        "id": "A-tbpvGIzfC6"
      },
      "execution_count": 152,
      "outputs": []
    },
    {
      "cell_type": "code",
      "source": [
        "dataX = []\n",
        "dataY = []\n",
        "for i in range(len(test)-time_stemp-1):\n",
        "    a = test[i:(i+time_stemp), 0]\n",
        "    dataX.append(a)\n",
        "    dataY.append(test[i + time_stemp, 0])\n",
        "testX = numpy.array(dataX)\n",
        "testY = numpy.array(dataY)  "
      ],
      "metadata": {
        "id": "5WMoSW4Jze-G"
      },
      "execution_count": 153,
      "outputs": []
    },
    {
      "cell_type": "code",
      "source": [
        "trainX = numpy.reshape(trainX, (trainX.shape[0], 1, trainX.shape[1]))\n",
        "testX = numpy.reshape(testX, (testX.shape[0], 1, testX.shape[1]))"
      ],
      "metadata": {
        "id": "vVQZF7mvze5S"
      },
      "execution_count": 154,
      "outputs": []
    },
    {
      "cell_type": "code",
      "source": [
        "# define model\n",
        "model = Sequential()\n",
        "model.add(Bidirectional(LSTM(50, activation='relu'), input_shape=(1,time_stemp)))\n",
        "model.add(Dense(1))\n",
        "model.compile(optimizer='adam', loss='mse')\n",
        "model.fit(trainX, trainY, epochs=50, batch_size=1)"
      ],
      "metadata": {
        "colab": {
          "base_uri": "https://localhost:8080/"
        },
        "id": "SjFzlcqOzywU",
        "outputId": "9744a204-e4a7-4076-f138-705393a16841"
      },
      "execution_count": 155,
      "outputs": [
        {
          "output_type": "stream",
          "name": "stdout",
          "text": [
            "Epoch 1/50\n",
            "996/996 [==============================] - 8s 6ms/step - loss: 0.0029\n",
            "Epoch 2/50\n",
            "996/996 [==============================] - 3s 3ms/step - loss: 7.2619e-04\n",
            "Epoch 3/50\n",
            "996/996 [==============================] - 3s 3ms/step - loss: 5.7160e-04\n",
            "Epoch 4/50\n",
            "996/996 [==============================] - 3s 3ms/step - loss: 5.4991e-04\n",
            "Epoch 5/50\n",
            "996/996 [==============================] - 3s 3ms/step - loss: 4.6798e-04\n",
            "Epoch 6/50\n",
            "996/996 [==============================] - 3s 3ms/step - loss: 4.5666e-04\n",
            "Epoch 7/50\n",
            "996/996 [==============================] - 3s 3ms/step - loss: 4.2521e-04\n",
            "Epoch 8/50\n",
            "996/996 [==============================] - 3s 3ms/step - loss: 4.4942e-04\n",
            "Epoch 9/50\n",
            "996/996 [==============================] - 3s 3ms/step - loss: 3.8632e-04\n",
            "Epoch 10/50\n",
            "996/996 [==============================] - 3s 3ms/step - loss: 4.0535e-04\n",
            "Epoch 11/50\n",
            "996/996 [==============================] - 3s 3ms/step - loss: 3.9741e-04\n",
            "Epoch 12/50\n",
            "996/996 [==============================] - 3s 3ms/step - loss: 4.2250e-04\n",
            "Epoch 13/50\n",
            "996/996 [==============================] - 3s 3ms/step - loss: 3.9916e-04\n",
            "Epoch 14/50\n",
            "996/996 [==============================] - 3s 3ms/step - loss: 3.7129e-04\n",
            "Epoch 15/50\n",
            "996/996 [==============================] - 3s 3ms/step - loss: 3.4146e-04\n",
            "Epoch 16/50\n",
            "996/996 [==============================] - 3s 3ms/step - loss: 3.8360e-04\n",
            "Epoch 17/50\n",
            "996/996 [==============================] - 3s 3ms/step - loss: 3.4354e-04\n",
            "Epoch 18/50\n",
            "996/996 [==============================] - 3s 3ms/step - loss: 3.4779e-04\n",
            "Epoch 19/50\n",
            "996/996 [==============================] - 3s 3ms/step - loss: 3.9305e-04\n",
            "Epoch 20/50\n",
            "996/996 [==============================] - 3s 3ms/step - loss: 3.3733e-04\n",
            "Epoch 21/50\n",
            "996/996 [==============================] - 3s 3ms/step - loss: 3.2870e-04\n",
            "Epoch 22/50\n",
            "996/996 [==============================] - 3s 3ms/step - loss: 3.2573e-04\n",
            "Epoch 23/50\n",
            "996/996 [==============================] - 3s 3ms/step - loss: 2.9817e-04\n",
            "Epoch 24/50\n",
            "996/996 [==============================] - 3s 3ms/step - loss: 3.3110e-04\n",
            "Epoch 25/50\n",
            "996/996 [==============================] - 3s 3ms/step - loss: 3.1184e-04\n",
            "Epoch 26/50\n",
            "996/996 [==============================] - 3s 3ms/step - loss: 3.3076e-04\n",
            "Epoch 27/50\n",
            "996/996 [==============================] - 3s 3ms/step - loss: 3.2877e-04\n",
            "Epoch 28/50\n",
            "996/996 [==============================] - 3s 3ms/step - loss: 3.1279e-04\n",
            "Epoch 29/50\n",
            "996/996 [==============================] - 3s 3ms/step - loss: 2.8209e-04\n",
            "Epoch 30/50\n",
            "996/996 [==============================] - 3s 3ms/step - loss: 3.5750e-04\n",
            "Epoch 31/50\n",
            "996/996 [==============================] - 3s 3ms/step - loss: 3.0577e-04\n",
            "Epoch 32/50\n",
            "996/996 [==============================] - 3s 3ms/step - loss: 3.3072e-04\n",
            "Epoch 33/50\n",
            "996/996 [==============================] - 4s 4ms/step - loss: 3.0428e-04\n",
            "Epoch 34/50\n",
            "996/996 [==============================] - 5s 5ms/step - loss: 3.4711e-04\n",
            "Epoch 35/50\n",
            "996/996 [==============================] - 3s 3ms/step - loss: 2.8246e-04\n",
            "Epoch 36/50\n",
            "996/996 [==============================] - 5s 5ms/step - loss: 3.0060e-04\n",
            "Epoch 37/50\n",
            "996/996 [==============================] - 5s 5ms/step - loss: 3.0916e-04\n",
            "Epoch 38/50\n",
            "996/996 [==============================] - 4s 4ms/step - loss: 3.1166e-04\n",
            "Epoch 39/50\n",
            "996/996 [==============================] - 5s 5ms/step - loss: 2.8997e-04\n",
            "Epoch 40/50\n",
            "996/996 [==============================] - 6s 6ms/step - loss: 2.7605e-04\n",
            "Epoch 41/50\n",
            "996/996 [==============================] - 5s 5ms/step - loss: 2.8558e-04\n",
            "Epoch 42/50\n",
            "996/996 [==============================] - 4s 4ms/step - loss: 2.7342e-04\n",
            "Epoch 43/50\n",
            "996/996 [==============================] - 4s 4ms/step - loss: 2.7370e-04\n",
            "Epoch 44/50\n",
            "996/996 [==============================] - 4s 4ms/step - loss: 2.9965e-04\n",
            "Epoch 45/50\n",
            "996/996 [==============================] - 3s 3ms/step - loss: 2.6740e-04\n",
            "Epoch 46/50\n",
            "996/996 [==============================] - 6s 6ms/step - loss: 2.9667e-04\n",
            "Epoch 47/50\n",
            "996/996 [==============================] - 5s 5ms/step - loss: 2.8271e-04\n",
            "Epoch 48/50\n",
            "996/996 [==============================] - 5s 5ms/step - loss: 2.7271e-04\n",
            "Epoch 49/50\n",
            "996/996 [==============================] - 3s 3ms/step - loss: 2.8150e-04\n",
            "Epoch 50/50\n",
            "996/996 [==============================] - 3s 3ms/step - loss: 2.9238e-04\n"
          ]
        },
        {
          "output_type": "execute_result",
          "data": {
            "text/plain": [
              "<keras.callbacks.History at 0x7fcec9f62590>"
            ]
          },
          "metadata": {},
          "execution_count": 155
        }
      ]
    },
    {
      "cell_type": "code",
      "source": [
        "trainPredict = model.predict(trainX)\n",
        "testPredict = model.predict(testX)\n",
        "# invert predictions\n",
        "trainPredict = scaler.inverse_transform(trainPredict)\n",
        "trainY = scaler.inverse_transform([trainY])\n",
        "testPredict = scaler.inverse_transform(testPredict)\n",
        "testY = scaler.inverse_transform([testY])\n",
        "# calculate root mean squared error\n",
        "trainScore = math.sqrt(mean_squared_error(trainY[0], trainPredict[:,0]))\n",
        "print('Train Score: %.2f RMSE' % (trainScore))\n",
        "testScore_bidirectional = math.sqrt(mean_squared_error(testY[0], testPredict[:,0]))\n",
        "print('Test Score: %.2f RMSE' % (testScore_bidirectional))"
      ],
      "metadata": {
        "colab": {
          "base_uri": "https://localhost:8080/"
        },
        "id": "dFbnp8BEzyeZ",
        "outputId": "35ec2a53-53b6-4166-c2ff-547e1117288d"
      },
      "execution_count": 156,
      "outputs": [
        {
          "output_type": "stream",
          "name": "stdout",
          "text": [
            "Train Score: 34.93 RMSE\n",
            "Test Score: 64.29 RMSE\n"
          ]
        }
      ]
    },
    {
      "cell_type": "code",
      "source": [
        "# shifting train\n",
        "trainPredictPlot = numpy.empty_like(dataset)\n",
        "trainPredictPlot[:, :] = numpy.nan\n",
        "trainPredictPlot[time_stemp:len(trainPredict)+time_stemp, :] = trainPredict\n",
        "# shifting test predictions for plotting\n",
        "testPredictPlot = numpy.empty_like(dataset)\n",
        "testPredictPlot[:, :] = numpy.nan\n",
        "testPredictPlot[len(trainPredict)+(time_stemp*2)+1:len(dataset)-1, :] = testPredict\n",
        "# plot baseline and predictions\n",
        "f,ax = plt.subplots(figsize = (30,7))\n",
        "plt.plot(scaler.inverse_transform(dataset))\n",
        "plt.plot(trainPredictPlot)\n",
        "plt.plot(testPredictPlot)\n",
        "plt.show()"
      ],
      "metadata": {
        "colab": {
          "base_uri": "https://localhost:8080/",
          "height": 425
        },
        "id": "HkS-g-yZ0AoB",
        "outputId": "e2618a72-115e-43bc-f8f5-4f9357a93bf4"
      },
      "execution_count": 157,
      "outputs": [
        {
          "output_type": "display_data",
          "data": {
            "image/png": "[encoded data removed]",
            "text/plain": [
              "<Figure size 2160x504 with 1 Axes>"
            ]
          },
          "metadata": {
            "needs_background": "light"
          }
        }
      ]
    },
    {
      "cell_type": "markdown",
      "source": [
        "# Conclusion"
      ],
      "metadata": {
        "id": "oA9v1XY200M8"
      }
    },
    {
      "cell_type": "markdown",
      "source": [
        "Looking at the past five years of performance during an unpredictable time, I was curious to see how well the LSTM models could perform while handling this timultuous data. First, a simple LSTM model was performed as a baseline LSTM model with a single hidden layer and an ouput layer was used to make the prediction. Next, a stacked LSTM allowed for more hidden layers to be stacked on top of one another, this showed improvement from simple model. Lastly, the bidirectional model was performed to see whether it was helpful for the LSTM model to take input sequences in both directions for learning purposes. \n",
        "\n",
        "The stacked LSTM model performed best of the models tested. "
      ],
      "metadata": {
        "id": "f31c2xin1Byx"
      }
    },
    {
      "cell_type": "markdown",
      "source": [
        "#Setting up different pipeline"
      ],
      "metadata": {
        "id": "o32dYwNUlsXR"
      }
    },
    {
      "cell_type": "code",
      "source": [
        "import pandas as pd\n",
        "import numpy as np\n",
        "import seaborn as sns\n",
        "import plotly.graph_objects as go\n",
        "import plotly.express as px\n",
        "import plotly.figure_factory as ff\n",
        "from plotly.subplots import make_subplots\n",
        "import plotly.io as pio\n",
        "import kaleido\n",
        "import os\n",
        "\n",
        "if not os.path.exists(\"images\"):\n",
        "  os.mkdir('images') # save plotly images\n",
        "\n",
        "import matplotlib.pyplot as plt\n",
        "import yfinance as yf\n",
        "import datetime as dt\n",
        "%matplotlib inline\n",
        "\n",
        "from sklearn.model_selection import train_test_split\n",
        "from sklearn.preprocessing import MinMaxScaler\n",
        "from time import time\n",
        "from keras.models import Sequential\n",
        "from keras import layers\n",
        "from keras.losses import BinaryCrossentropy, Poisson, SparseCategoricalCrossentropy, mean_squared_error\n",
        "from keras.metrics import BinaryAccuracy\n",
        "from keras.callbacks import EarlyStopping"
      ],
      "metadata": {
        "id": "J2JY4f1f6q7D"
      },
      "execution_count": null,
      "outputs": []
    },
    {
      "cell_type": "code",
      "source": [
        "all_data = yf.Ticker('^GSPC').history(start=dt.datetime(2017,3,1),\n",
        "                           end=dt.datetime(2022,3,1)).reset_index()"
      ],
      "metadata": {
        "id": "6cX2dnrT6q0X"
      },
      "execution_count": null,
      "outputs": []
    },
    {
      "cell_type": "code",
      "source": [
        "all_data.shape[0]*0.8 "
      ],
      "metadata": {
        "id": "eDM-omJJ6qs9"
      },
      "execution_count": null,
      "outputs": []
    },
    {
      "cell_type": "code",
      "source": [
        "data_train = all_data.iloc[:1007, 1:4].copy()\n",
        "data_test = all_data.iloc[1007:, 1:4].copy()"
      ],
      "metadata": {
        "id": "2_yN84oS6qmV"
      },
      "execution_count": null,
      "outputs": []
    },
    {
      "cell_type": "code",
      "source": [
        "data_train = all_data.iloc[:1007, 1:4].copy()\n",
        "data_test = all_data.iloc[1007:, 1:4].copy()"
      ],
      "metadata": {
        "id": "ZzPfHN2u6qfv"
      },
      "execution_count": null,
      "outputs": []
    },
    {
      "cell_type": "code",
      "source": [
        "training_set = data_train.values\n",
        "training_set = np.reshape(training_set, (len(training_set), 3))\n",
        "\n",
        "testing_set = data_test.values\n",
        "testing_set = np.reshape(testing_set, (len(testing_set), 3))"
      ],
      "metadata": {
        "id": "yWASq1VB66JQ"
      },
      "execution_count": null,
      "outputs": []
    },
    {
      "cell_type": "code",
      "source": [
        "X_train, X_val, y_train, y_val = train_test_split(training_set,\n",
        "                                                  all_data.iloc[:1007, 4],\n",
        "                                                  test_size=0.2,\n",
        "                                                  random_state=42)\n",
        "print(f'''X_train shape {X_train.shape}\n",
        "y_train shape {len(y_train)}\n",
        "X_val shape {X_val.shape}\n",
        "y_val {len(y_val)}\n",
        "''')"
      ],
      "metadata": {
        "id": "eY8xf1Cv66G_"
      },
      "execution_count": null,
      "outputs": []
    },
    {
      "cell_type": "code",
      "source": [
        "#https://medium.com/swlh/a-technical-guide-on-rnn-lstm-gru-for-stock-price-prediction-bce2f7f30346\n",
        "def ts_train_test(all_data,time_steps,for_periods):\n",
        "    '''\n",
        "    input: \n",
        "      data: dataframe with dates and price data\n",
        "    output:\n",
        "      X_train, y_train: data from 2013/1/1-2018/12/31\n",
        "      X_test:  data from 2019 -\n",
        "      sc:      insantiated MinMaxScaler object fit to the training data\n",
        "    '''\n",
        "    # create training and test set\n",
        "    ts_train = data_train.values\n",
        "    ts_test  = data_test.values\n",
        "    ts_train_len = len(ts_train)\n",
        "    ts_test_len = len(ts_test)\n",
        "\n",
        "    # create training data of s samples and t time steps\n",
        "    X_train = []\n",
        "    y_train = []\n",
        "    y_train_stacked = []\n",
        "    for i in range(time_steps,ts_train_len-1): \n",
        "        X_train.append(ts_train[i-time_steps:i,0])\n",
        "        y_train.append(ts_train[i:i+for_periods,0])\n",
        "    X_train, y_train = np.array(X_train), np.array(y_train)\n",
        "\n",
        "    # Reshaping X_train for efficient modelling\n",
        "    X_train = np.reshape(X_train, (X_train.shape[0],X_train.shape[1],1))\n",
        "\n",
        "    inputs = pd.concat((all_data[\"Close\"], all_data[\"Close\"]),axis=0).values\n",
        "    inputs = inputs[len(inputs)-len(ts_test) - time_steps:]\n",
        "    inputs = inputs.reshape(-1,1)\n",
        "    \n",
        "      # Preparing X_test\n",
        "    X_test = []\n",
        "    for i in range(time_steps,ts_test_len+time_steps-for_periods):\n",
        "        X_test.append(inputs[i-time_steps:i,0])\n",
        "        \n",
        "    X_test = np.array(X_test)\n",
        "    X_test = np.reshape(X_test, (X_test.shape[0],X_test.shape[1],1))\n",
        "\n",
        "    return X_train, y_train , X_test\n",
        "\n",
        "X_train, y_train, X_test = ts_train_test(all_data,5,2)\n",
        "X_train.shape[0],X_train.shape[1]"
      ],
      "metadata": {
        "id": "OUe5r9oH66EM"
      },
      "execution_count": null,
      "outputs": []
    },
    {
      "cell_type": "code",
      "source": [
        "# Make the 3-D shape to a data frame so we can see: \n",
        "X_train_see = pd.DataFrame(np.reshape(X_train, (X_train.shape[0],X_train.shape[1])))\n",
        "y_train_see = pd.DataFrame(y_train)\n",
        "pd.concat([X_train_see,y_train_see],axis=1)"
      ],
      "metadata": {
        "id": "yfxPTx147UYO"
      },
      "execution_count": null,
      "outputs": []
    },
    {
      "cell_type": "code",
      "source": [
        "# Make the 3-D shape to a data frame so we can see: \n",
        "X_test_see = pd.DataFrame(np.reshape(X_test, (X_test.shape[0],X_test.shape[1])))\n",
        "pd.DataFrame(X_test_see)"
      ],
      "metadata": {
        "id": "cmr5npBY7UMY"
      },
      "execution_count": null,
      "outputs": []
    },
    {
      "cell_type": "code",
      "source": [
        "print(\"There are \" + str(X_train.shape[0]) + \" samples in the training data\")\n",
        "print(\"There are \" + str(X_test.shape[0]) + \" samples in the test data\")"
      ],
      "metadata": {
        "id": "PHVAt3j57dfk"
      },
      "execution_count": null,
      "outputs": []
    },
    {
      "cell_type": "code",
      "source": [
        "def simple_rnn_model(X_train, y_train, X_test):\n",
        "    '''\n",
        "    create single layer rnn model trained on X_train and y_train\n",
        "    and make predictions on the X_test data\n",
        "    '''\n",
        "    # create a model\n",
        "    from keras.models import Sequential\n",
        "    from keras.layers import Dense, SimpleRNN\n",
        "    \n",
        "    my_rnn_model = Sequential()\n",
        "    my_rnn_model.add(SimpleRNN(32, return_sequences=True))\n",
        "    #my_rnn_model.add(SimpleRNN(32, return_sequences=True))\n",
        "    #my_rnn_model.add(SimpleRNN(32, return_sequences=True))\n",
        "    my_rnn_model.add(SimpleRNN(32))\n",
        "    my_rnn_model.add(Dense(2)) # The time step of the output\n",
        "\n",
        "    my_rnn_model.compile(optimizer='rmsprop', loss='mean_squared_error')\n",
        "\n",
        "    # fit the RNN model\n",
        "    my_rnn_model.fit(X_train, y_train, epochs=100, batch_size=150, verbose=0)\n",
        "\n",
        "    # Finalizing predictions\n",
        "    rnn_predictions = my_rnn_model.predict(X_test)\n",
        "\n",
        "    return my_rnn_model, rnn_predictions\n",
        "\n",
        "my_rnn_model, rnn_predictions = simple_rnn_model(X_train, y_train, X_test)\n",
        "rnn_predictions[1:10]"
      ],
      "metadata": {
        "id": "DzVTG0Ef7dcJ"
      },
      "execution_count": null,
      "outputs": []
    },
    {
      "cell_type": "code",
      "source": [
        "def actual_pred_plot(preds):\n",
        "    actual_pred = pd.DataFrame(columns = ['Close', 'prediction'])\n",
        "    actual_pred['Close'] = all_data.loc['2019':,'Close'][0:len(preds)]\n",
        "    actual_pred['prediction'] = preds[:,0]\n",
        "\n",
        "    from keras.metrics import MeanSquaredError\n",
        "    m = MeanSquaredError()\n",
        "    m.update_state(np.array(actual_pred['Close']),np.array(actual_pred['prediction']))\n",
        "    \n",
        "    return (m.result().numpy(), actual_pred.plot() )\n",
        "    \n",
        "actual_pred_plot(rnn_predictions)  "
      ],
      "metadata": {
        "id": "N_7XITyz7mUE"
      },
      "execution_count": null,
      "outputs": []
    },
    {
      "cell_type": "code",
      "source": [
        "!pip install yfinance\n",
        "!pip install -U kaleido"
      ],
      "metadata": {
        "colab": {
          "base_uri": "https://localhost:8080/"
        },
        "id": "iId4OU7BNjKO",
        "outputId": "74a5cdfc-7aa8-4d62-820d-af9fc5abff0d"
      },
      "execution_count": 14,
      "outputs": [
        {
          "output_type": "stream",
          "name": "stdout",
          "text": [
            "Collecting yfinance\n",
            "  Downloading yfinance-0.1.70-py2.py3-none-any.whl (26 kB)\n",
            "Requirement already satisfied: pandas>=0.24.0 in /usr/local/lib/python3.7/dist-packages (from yfinance) (1.3.5)\n",
            "Requirement already satisfied: numpy>=1.15 in /usr/local/lib/python3.7/dist-packages (from yfinance) (1.21.5)\n",
            "Collecting requests>=2.26\n",
            "  Downloading requests-2.27.1-py2.py3-none-any.whl (63 kB)\n",
            "\u001b[K     |████████████████████████████████| 63 kB 666 kB/s \n",
            "\u001b[?25hCollecting lxml>=4.5.1\n",
            "  Downloading lxml-4.8.0-cp37-cp37m-manylinux_2_17_x86_64.manylinux2014_x86_64.manylinux_2_24_x86_64.whl (6.4 MB)\n",
            "\u001b[K     |████████████████████████████████| 6.4 MB 16.1 MB/s \n",
            "\u001b[?25hRequirement already satisfied: multitasking>=0.0.7 in /usr/local/lib/python3.7/dist-packages (from yfinance) (0.0.10)\n",
            "Requirement already satisfied: python-dateutil>=2.7.3 in /usr/local/lib/python3.7/dist-packages (from pandas>=0.24.0->yfinance) (2.8.2)\n",
            "Requirement already satisfied: pytz>=2017.3 in /usr/local/lib/python3.7/dist-packages (from pandas>=0.24.0->yfinance) (2018.9)\n",
            "Requirement already satisfied: six>=1.5 in /usr/local/lib/python3.7/dist-packages (from python-dateutil>=2.7.3->pandas>=0.24.0->yfinance) (1.15.0)\n",
            "Requirement already satisfied: charset-normalizer~=2.0.0 in /usr/local/lib/python3.7/dist-packages (from requests>=2.26->yfinance) (2.0.12)\n",
            "Requirement already satisfied: urllib3<1.27,>=1.21.1 in /usr/local/lib/python3.7/dist-packages (from requests>=2.26->yfinance) (1.24.3)\n",
            "Requirement already satisfied: certifi>=2017.4.17 in /usr/local/lib/python3.7/dist-packages (from requests>=2.26->yfinance) (2021.10.8)\n",
            "Requirement already satisfied: idna<4,>=2.5 in /usr/local/lib/python3.7/dist-packages (from requests>=2.26->yfinance) (2.10)\n",
            "Installing collected packages: requests, lxml, yfinance\n",
            "  Attempting uninstall: requests\n",
            "    Found existing installation: requests 2.23.0\n",
            "    Uninstalling requests-2.23.0:\n",
            "      Successfully uninstalled requests-2.23.0\n",
            "  Attempting uninstall: lxml\n",
            "    Found existing installation: lxml 4.2.6\n",
            "    Uninstalling lxml-4.2.6:\n",
            "      Successfully uninstalled lxml-4.2.6\n",
            "\u001b[31mERROR: pip's dependency resolver does not currently take into account all the packages that are installed. This behaviour is the source of the following dependency conflicts.\n",
            "google-colab 1.0.0 requires requests~=2.23.0, but you have requests 2.27.1 which is incompatible.\n",
            "datascience 0.10.6 requires folium==0.2.1, but you have folium 0.8.3 which is incompatible.\u001b[0m\n",
            "Successfully installed lxml-4.8.0 requests-2.27.1 yfinance-0.1.70\n",
            "Collecting kaleido\n",
            "  Downloading kaleido-0.2.1-py2.py3-none-manylinux1_x86_64.whl (79.9 MB)\n",
            "\u001b[K     |████████████████████████████████| 79.9 MB 104 kB/s \n",
            "\u001b[?25hInstalling collected packages: kaleido\n",
            "Successfully installed kaleido-0.2.1\n"
          ]
        }
      ]
    },
    {
      "cell_type": "code",
      "source": [
        "#upload from raw link on github\n",
        "data = pd.read_csv('https://raw.githubusercontent.com/LaurenVaught/FinancialTimeSeries/main/SP500.csv') "
      ],
      "metadata": {
        "id": "p-47Vg8jm-SU"
      },
      "execution_count": 34,
      "outputs": []
    },
    {
      "cell_type": "code",
      "source": [
        "data.shape"
      ],
      "metadata": {
        "colab": {
          "base_uri": "https://localhost:8080/"
        },
        "id": "tc3_9N7xnGSm",
        "outputId": "9a752c2b-681e-47b9-9012-16ed228cd3d7"
      },
      "execution_count": 35,
      "outputs": [
        {
          "output_type": "execute_result",
          "data": {
            "text/plain": [
              "(1259, 7)"
            ]
          },
          "metadata": {},
          "execution_count": 35
        }
      ]
    },
    {
      "cell_type": "code",
      "source": [
        "data.info()"
      ],
      "metadata": {
        "colab": {
          "base_uri": "https://localhost:8080/"
        },
        "id": "VfToL-c9nJ4b",
        "outputId": "ee5980c0-9624-491e-e715-7eac04a4ca1f"
      },
      "execution_count": 37,
      "outputs": [
        {
          "output_type": "stream",
          "name": "stdout",
          "text": [
            "<class 'pandas.core.frame.DataFrame'>\n",
            "RangeIndex: 1259 entries, 0 to 1258\n",
            "Data columns (total 7 columns):\n",
            " #   Column    Non-Null Count  Dtype  \n",
            "---  ------    --------------  -----  \n",
            " 0   Date      1259 non-null   object \n",
            " 1   Open      1259 non-null   float64\n",
            " 2   High      1259 non-null   float64\n",
            " 3   Low       1259 non-null   float64\n",
            " 4   Close     1259 non-null   float64\n",
            " 5   AdjClose  1259 non-null   float64\n",
            " 6   Volume    1259 non-null   float64\n",
            "dtypes: float64(6), object(1)\n",
            "memory usage: 69.0+ KB\n"
          ]
        }
      ]
    },
    {
      "cell_type": "code",
      "source": [
        "def select_transform(data, features, y_output):\n",
        "  split_80 = int((data.shape[0]*0.8))\n",
        "  print(f\"Split at {split_80}\")\n",
        "\n",
        "  x_train = data.loc[:split_80-1, features].copy()\n",
        "  y_train = data.loc[:split_80-1, [y_output]].copy()\n",
        "\n",
        "  x_test = data.loc[split_80:, features].copy()\n",
        "  y_test = data.loc[split_80:, [y_output]].copy()\n",
        "\n",
        "  minmax = MinMaxScaler(feature_range=(0,1))\n",
        "\n",
        "  x_train_sc = minmax.fit_transform(x_train)\n",
        "  y_train_sc = minmax.fit_transform(y_train)\n",
        "  x_test_sc = minmax.fit_transform(x_test)\n",
        "  y_test_sc = minmax.fit_transform(y_test)\n",
        "\n",
        "  print(f'''X_train shape {x_train_sc.shape}\n",
        "y_train shape {len(y_train_sc)}\n",
        "X_test shape {x_test_sc.shape}\n",
        "y_test {len(y_test_sc)}\n",
        "''')\n",
        "\n",
        "  return x_train_sc, y_train_sc, x_test_sc, y_test_sc, minmax"
      ],
      "metadata": {
        "id": "6Ku2DbeCorxr"
      },
      "execution_count": 40,
      "outputs": []
    },
    {
      "cell_type": "code",
      "source": [
        "X_train, y_train, X_test, y_test, minmax = select_transform(data, ['Open', 'High','Low'], 'Close')"
      ],
      "metadata": {
        "colab": {
          "base_uri": "https://localhost:8080/"
        },
        "id": "QCWXlpXLpg-z",
        "outputId": "acbbcf6b-54ce-4cec-ceef-be722d77456e"
      },
      "execution_count": 41,
      "outputs": [
        {
          "output_type": "stream",
          "name": "stdout",
          "text": [
            "Split at 1007\n",
            "X_train shape (1007, 3)\n",
            "y_train shape 1007\n",
            "X_test shape (252, 3)\n",
            "y_test 252\n",
            "\n"
          ]
        }
      ]
    },
    {
      "cell_type": "code",
      "source": [
        "#https://machinelearningmastery.com/how-to-develop-lstm-models-for-time-series-forecasting/\n",
        "#https://towardsdatascience.com/how-to-reshape-data-and-do-regression-for-time-series-using-lstm-133dad96cd00\n",
        "\n",
        "def lstm_data_transform(x_data, y_data, num_steps=5):\n",
        "    \"\"\" Changes data to the format for LSTM training \n",
        "for sliding window approach \"\"\"\n",
        "    # Prepare the list for the transformed data\n",
        "    X, y = list(), list()\n",
        "    # Loop of the entire data set\n",
        "    for i in range(x_data.shape[0]):\n",
        "        # compute a new (sliding window) index\n",
        "        end_ix = i + num_steps\n",
        "        # if index is larger than the size of the dataset, we stop\n",
        "        if end_ix >= x_data.shape[0]:\n",
        "            break\n",
        "        # Get a sequence of data for x\n",
        "        seq_X = x_data[i:end_ix]\n",
        "        # Get only the last element of the sequency for y\n",
        "        seq_y = y_data[end_ix]\n",
        "        # Append the list with sequencies\n",
        "        X.append(seq_X)\n",
        "        y.append(seq_y)\n",
        "    # Make final arrays\n",
        "    x_array = np.array(X)\n",
        "    y_array = np.array(y)\n",
        "\n",
        "    print(f\"X_array shape {x_array.shape}\\nY_array shape {y_array.shape}\")\n",
        "    return x_array, y_array"
      ],
      "metadata": {
        "id": "QGn-yiiepo_V"
      },
      "execution_count": 42,
      "outputs": []
    },
    {
      "cell_type": "code",
      "source": [
        "x_train_lstm, y_train_lstm = lstm_data_transform(X_train, y_train, 50)\n",
        "print(\"-----\\nTest\")\n",
        "x_test_lstm, y_test_lstm = lstm_data_transform(X_test, y_test, 50)"
      ],
      "metadata": {
        "colab": {
          "base_uri": "https://localhost:8080/"
        },
        "id": "rxYgFWDipzI8",
        "outputId": "d134deca-4117-4256-9fcd-16e2fc6dfb12"
      },
      "execution_count": 43,
      "outputs": [
        {
          "output_type": "stream",
          "name": "stdout",
          "text": [
            "X_array shape (957, 50, 3)\n",
            "Y_array shape (957, 1)\n",
            "-----\n",
            "Test\n",
            "X_array shape (202, 50, 3)\n",
            "Y_array shape (202, 1)\n"
          ]
        }
      ]
    },
    {
      "cell_type": "code",
      "source": [
        "X_train, X_val, y_train, y_val = train_test_split(x_train_lstm,\n",
        "                                                  y_train_lstm,\n",
        "                                                  test_size=0.2,\n",
        "                                                  random_state=22)\n",
        "print(f'''X_train shape {X_train.shape}\n",
        "y_train shape {len(y_train)}\n",
        "X_val shape {X_val.shape}\n",
        "y_val {len(y_val)}\n",
        "''')"
      ],
      "metadata": {
        "colab": {
          "base_uri": "https://localhost:8080/"
        },
        "id": "TXvsPiChp3M6",
        "outputId": "9bc48065-6d49-49fa-c21f-a2df7fb3d6e5"
      },
      "execution_count": 44,
      "outputs": [
        {
          "output_type": "stream",
          "name": "stdout",
          "text": [
            "X_train shape (765, 50, 3)\n",
            "y_train shape 765\n",
            "X_val shape (192, 50, 3)\n",
            "y_val 192\n",
            "\n"
          ]
        }
      ]
    },
    {
      "cell_type": "code",
      "source": [
        "def run_model (model, model_name):\n",
        "  callback = EarlyStopping(monitor='loss', patience=2)\n",
        "  start = time()\n",
        "  fitted_model = model.fit(X_train,\n",
        "                           y_train,\n",
        "                           callbacks=[callback],\n",
        "                           epochs=50,\n",
        "                           validation_data=(X_val, y_val))\n",
        "  end = time()\n",
        "  runtime = round((end-start), 4)\n",
        "  print(f\"{model_name} took {runtime} seconds or {round((runtime/60),4)} minutes to run.\")\n",
        "  return runtime\n",
        "\n",
        "  def prediction (fitted_model, x_feat):\n",
        "    pred = fitted_model.predict(x_feat)\n",
        "  return pred\n",
        "\n",
        "def prob_eval (y_true, y_prob, model_name, train_test):\n",
        "  df=pd.DataFrame({ 'model_name': [model_name, model_name],\n",
        "                   'type': [train_test, train_test],\n",
        "                   'metric_name': ['bsl', 'log_loss'],\n",
        "                   'metric' : [round(brier_score_loss(y_true, y_prob), 4),\n",
        "                               round(log_loss(y_true, y_prob), 4)]})\n",
        "  display(df)\n",
        "  return df"
      ],
      "metadata": {
        "id": "RKNOVJzZp65U"
      },
      "execution_count": 45,
      "outputs": []
    },
    {
      "cell_type": "markdown",
      "source": [
        "#Additional model"
      ],
      "metadata": {
        "id": "Z_2MkiodqBHA"
      }
    },
    {
      "cell_type": "code",
      "source": [
        "rnn1 = Sequential([\n",
        "    layers.SimpleRNN(20, return_sequences=True, input_shape=[50, 3]),\n",
        "    layers.SimpleRNN(20, return_sequences=True),\n",
        "    layers.SimpleRNN(1)\n",
        "])\n",
        "\n",
        "rnn1.compile(optimizer=\"adam\", loss=\"mse\", metrics=['accuracy'])"
      ],
      "metadata": {
        "id": "zH_vMq8Yp-t7"
      },
      "execution_count": 46,
      "outputs": []
    },
    {
      "cell_type": "code",
      "source": [
        "rnn1_rt = run_model(rnn1, 'rnn1')"
      ],
      "metadata": {
        "colab": {
          "base_uri": "https://localhost:8080/"
        },
        "id": "IRdNeAJ6qEgR",
        "outputId": "d6793e3b-df01-4793-aaae-d402d5432e51"
      },
      "execution_count": 47,
      "outputs": [
        {
          "output_type": "stream",
          "name": "stdout",
          "text": [
            "Epoch 1/50\n",
            "24/24 [==============================] - 6s 83ms/step - loss: 0.0117 - accuracy: 0.0013 - val_loss: 0.0019 - val_accuracy: 0.0000e+00\n",
            "Epoch 2/50\n",
            "24/24 [==============================] - 1s 54ms/step - loss: 0.0013 - accuracy: 0.0013 - val_loss: 7.7474e-04 - val_accuracy: 0.0000e+00\n",
            "Epoch 3/50\n",
            "24/24 [==============================] - 1s 47ms/step - loss: 6.5810e-04 - accuracy: 0.0013 - val_loss: 6.3453e-04 - val_accuracy: 0.0000e+00\n",
            "Epoch 4/50\n",
            "24/24 [==============================] - 1s 31ms/step - loss: 5.1237e-04 - accuracy: 0.0013 - val_loss: 4.9443e-04 - val_accuracy: 0.0000e+00\n",
            "Epoch 5/50\n",
            "24/24 [==============================] - 1s 33ms/step - loss: 4.5212e-04 - accuracy: 0.0013 - val_loss: 4.9425e-04 - val_accuracy: 0.0000e+00\n",
            "Epoch 6/50\n",
            "24/24 [==============================] - 1s 32ms/step - loss: 4.5674e-04 - accuracy: 0.0013 - val_loss: 4.1358e-04 - val_accuracy: 0.0000e+00\n",
            "Epoch 7/50\n",
            "24/24 [==============================] - 1s 28ms/step - loss: 3.9157e-04 - accuracy: 0.0013 - val_loss: 4.1360e-04 - val_accuracy: 0.0000e+00\n",
            "Epoch 8/50\n",
            "24/24 [==============================] - 1s 28ms/step - loss: 3.8521e-04 - accuracy: 0.0013 - val_loss: 4.0153e-04 - val_accuracy: 0.0000e+00\n",
            "Epoch 9/50\n",
            "24/24 [==============================] - 1s 32ms/step - loss: 3.6483e-04 - accuracy: 0.0013 - val_loss: 3.8614e-04 - val_accuracy: 0.0000e+00\n",
            "Epoch 10/50\n",
            "24/24 [==============================] - 1s 31ms/step - loss: 3.4727e-04 - accuracy: 0.0013 - val_loss: 3.6314e-04 - val_accuracy: 0.0000e+00\n",
            "Epoch 11/50\n",
            "24/24 [==============================] - 1s 29ms/step - loss: 3.3130e-04 - accuracy: 0.0013 - val_loss: 3.1871e-04 - val_accuracy: 0.0000e+00\n",
            "Epoch 12/50\n",
            "24/24 [==============================] - 1s 28ms/step - loss: 3.2509e-04 - accuracy: 0.0013 - val_loss: 3.1781e-04 - val_accuracy: 0.0000e+00\n",
            "Epoch 13/50\n",
            "24/24 [==============================] - 1s 27ms/step - loss: 3.1544e-04 - accuracy: 0.0013 - val_loss: 2.8585e-04 - val_accuracy: 0.0000e+00\n",
            "Epoch 14/50\n",
            "24/24 [==============================] - 1s 27ms/step - loss: 3.2080e-04 - accuracy: 0.0013 - val_loss: 2.9338e-04 - val_accuracy: 0.0000e+00\n",
            "Epoch 15/50\n",
            "24/24 [==============================] - 1s 29ms/step - loss: 2.8444e-04 - accuracy: 0.0013 - val_loss: 2.7762e-04 - val_accuracy: 0.0000e+00\n",
            "Epoch 16/50\n",
            "24/24 [==============================] - 1s 31ms/step - loss: 2.5551e-04 - accuracy: 0.0013 - val_loss: 2.8633e-04 - val_accuracy: 0.0000e+00\n",
            "Epoch 17/50\n",
            "24/24 [==============================] - 1s 31ms/step - loss: 3.0285e-04 - accuracy: 0.0013 - val_loss: 4.1588e-04 - val_accuracy: 0.0000e+00\n",
            "Epoch 18/50\n",
            "24/24 [==============================] - 1s 28ms/step - loss: 2.5862e-04 - accuracy: 0.0013 - val_loss: 2.5377e-04 - val_accuracy: 0.0000e+00\n",
            "rnn1 took 19.4593 seconds or 0.3243 minutes to run.\n"
          ]
        }
      ]
    },
    {
      "cell_type": "code",
      "source": [
        "[print(i.shape, i.dtype) for i in rnn1.inputs]\n",
        "[print(o.shape, o.dtype) for o in rnn1.outputs]\n",
        "[print(l.name, l.input_shape, l.dtype) for l in rnn1.layers]"
      ],
      "metadata": {
        "colab": {
          "base_uri": "https://localhost:8080/"
        },
        "id": "hJtWqwsLqEOP",
        "outputId": "bde7ebca-bf30-48da-e3c7-234f8f5b3791"
      },
      "execution_count": 48,
      "outputs": [
        {
          "output_type": "stream",
          "name": "stdout",
          "text": [
            "(None, 50, 3) <dtype: 'float32'>\n",
            "(None, 1) <dtype: 'float32'>\n",
            "simple_rnn_2 (None, 50, 3) float32\n",
            "simple_rnn_3 (None, 50, 20) float32\n",
            "simple_rnn_4 (None, 50, 20) float32\n"
          ]
        },
        {
          "output_type": "execute_result",
          "data": {
            "text/plain": [
              "[None, None, None]"
            ]
          },
          "metadata": {},
          "execution_count": 48
        }
      ]
    },
    {
      "cell_type": "code",
      "source": [
        "sequences = np.asarray(X_train)\n",
        "targets   = np.asarray(y_train)\n",
        "display(sequences.shape, targets.shape)\n",
        "\n",
        "Sequences = np.expand_dims(sequences, -1)\n",
        "Targets   = np.expand_dims(targets, -1)\n",
        "display(Sequences.shape, Targets.shape)"
      ],
      "metadata": {
        "colab": {
          "base_uri": "https://localhost:8080/",
          "height": 91
        },
        "id": "UhpQF8njqQ-i",
        "outputId": "c6bfdc39-1e1a-497c-d832-5d84f7e34e78"
      },
      "execution_count": 49,
      "outputs": [
        {
          "output_type": "display_data",
          "data": {
            "text/plain": [
              "(765, 50, 3)"
            ]
          },
          "metadata": {}
        },
        {
          "output_type": "display_data",
          "data": {
            "text/plain": [
              "(765, 1)"
            ]
          },
          "metadata": {}
        },
        {
          "output_type": "display_data",
          "data": {
            "text/plain": [
              "(765, 50, 3, 1)"
            ]
          },
          "metadata": {}
        },
        {
          "output_type": "display_data",
          "data": {
            "text/plain": [
              "(765, 1, 1)"
            ]
          },
          "metadata": {}
        }
      ]
    },
    {
      "cell_type": "code",
      "source": [
        "def compare_pred_actual(X, y, test_train):\n",
        "  pred = minmax.inverse_transform(rnn1.predict(X))\n",
        "  actual = minmax.inverse_transform(y)\n",
        "\n",
        "  pred_lst = [round(pred[row][0],3) for row in range(0,len(pred))]\n",
        "  actual_lst = [round(actual[row][0],3) for row in range(0,len(actual))]\n",
        "  diff = [(actual_lst[row] - pred_lst[row]) for row in range(0, len(pred))]\n",
        "\n",
        "  compare_train = pd.DataFrame(list(zip(actual_lst, pred_lst, diff)),\n",
        "                              columns=[f\"Actual_{test_train}\", f\"Pred_{test_train}\", 'Diff'])\n",
        "  return pred_lst, actual_lst, compare_train"
      ],
      "metadata": {
        "id": "r7y2eD844pau"
      },
      "execution_count": null,
      "outputs": []
    },
    {
      "cell_type": "code",
      "source": [
        "pred_train, actual_train, compare_train = compare_pred_actual(X_train, y_train, 'Train')\n",
        "compare_train.head()"
      ],
      "metadata": {
        "id": "8U3d03-E4pXz"
      },
      "execution_count": null,
      "outputs": []
    },
    {
      "cell_type": "code",
      "source": [
        "compare_train.describe()"
      ],
      "metadata": {
        "id": "JC3Jo1db4pUi"
      },
      "execution_count": null,
      "outputs": []
    },
    {
      "cell_type": "code",
      "source": [
        ""
      ],
      "metadata": {
        "id": "08hl1GdC4pMO"
      },
      "execution_count": null,
      "outputs": []
    }
  ]
}